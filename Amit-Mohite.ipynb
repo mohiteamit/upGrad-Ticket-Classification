{
 "cells": [
  {
   "cell_type": "markdown",
   "metadata": {},
   "source": [
    "# Customer Support Ticket Classification using NLP\n",
    "\n",
    "## 0. Introduction\n",
    "\n",
    "This project aims to automate customer support ticket classification for a financial company using NLP techniques. The objective is to classify unstructured customer complaints into predefined categories to streamline the support process. The categories include:\n",
    "\n",
    "- **Credit card/Prepaid card**\n",
    "- **Bank account services**\n",
    "- **Theft/Dispute reporting**\n",
    "- **Mortgages/loans**\n",
    "- **Others**\n",
    "\n",
    "The notebook follows a structured workflow, encompassing the following major stages:\n",
    "\n",
    "1. **Data Reading and Understanding**  \n",
    "2. **Data Cleaning**  \n",
    "3. **Text Preprocessing**  \n",
    "4. **Exploratory Data Analysis (EDA)**  \n",
    "5. **Feature Extraction**  \n",
    "6. **Topic Modeling**  \n",
    "7. **Model Building**  \n",
    "8. **Best Model**  \n",
    "9. **Model Inference**\n",
    "\n",
    "The data provided is in **JSON format**, and it is efficiently loaded into a Pandas DataFrame for further processing."
   ]
  },
  {
   "cell_type": "markdown",
   "metadata": {},
   "source": [
    "## 1. Data Reading and Understanding"
   ]
  },
  {
   "cell_type": "markdown",
   "metadata": {},
   "source": [
    "\n",
    "In this step, I will load the customer complaints data from a JSON file and perform an initial exploration to understand its structure and content. This will help me gain insights into the data distribution and prepare for subsequent preprocessing steps.\n",
    "\n",
    "**Steps Involved**:\n",
    "- Load the JSON file into a Pandas DataFrame.\n",
    "- Examine the structure of the dataset by checking the columns and data types."
   ]
  },
  {
   "cell_type": "code",
   "execution_count": 1,
   "metadata": {},
   "outputs": [],
   "source": [
    "import re\n",
    "import json\n",
    "import pandas as pd\n",
    "import numpy as np\n",
    "from tabulate import tabulate"
   ]
  },
  {
   "cell_type": "code",
   "execution_count": 2,
   "metadata": {},
   "outputs": [],
   "source": [
    "# Load the data\n",
    "data = pd.json_normalize(json.load(open('./data/complaints-2021-05-14_08_16.json', encoding='ANSI')))"
   ]
  },
  {
   "cell_type": "code",
   "execution_count": 3,
   "metadata": {},
   "outputs": [
    {
     "data": {
      "text/plain": [
       "(78313, 22)"
      ]
     },
     "execution_count": 3,
     "metadata": {},
     "output_type": "execute_result"
    }
   ],
   "source": [
    "data.shape"
   ]
  },
  {
   "cell_type": "code",
   "execution_count": 4,
   "metadata": {},
   "outputs": [
    {
     "data": {
      "text/html": [
       "<div>\n",
       "<style scoped>\n",
       "    .dataframe tbody tr th:only-of-type {\n",
       "        vertical-align: middle;\n",
       "    }\n",
       "\n",
       "    .dataframe tbody tr th {\n",
       "        vertical-align: top;\n",
       "    }\n",
       "\n",
       "    .dataframe thead th {\n",
       "        text-align: right;\n",
       "    }\n",
       "</style>\n",
       "<table border=\"1\" class=\"dataframe\">\n",
       "  <thead>\n",
       "    <tr style=\"text-align: right;\">\n",
       "      <th></th>\n",
       "      <th>0</th>\n",
       "      <th>1</th>\n",
       "      <th>2</th>\n",
       "      <th>3</th>\n",
       "    </tr>\n",
       "  </thead>\n",
       "  <tbody>\n",
       "    <tr>\n",
       "      <th>_index</th>\n",
       "      <td>complaint-public-v2</td>\n",
       "      <td>complaint-public-v2</td>\n",
       "      <td>complaint-public-v2</td>\n",
       "      <td>complaint-public-v2</td>\n",
       "    </tr>\n",
       "    <tr>\n",
       "      <th>_type</th>\n",
       "      <td>complaint</td>\n",
       "      <td>complaint</td>\n",
       "      <td>complaint</td>\n",
       "      <td>complaint</td>\n",
       "    </tr>\n",
       "    <tr>\n",
       "      <th>_id</th>\n",
       "      <td>3211475</td>\n",
       "      <td>3229299</td>\n",
       "      <td>3199379</td>\n",
       "      <td>2673060</td>\n",
       "    </tr>\n",
       "    <tr>\n",
       "      <th>_score</th>\n",
       "      <td>0.0</td>\n",
       "      <td>0.0</td>\n",
       "      <td>0.0</td>\n",
       "      <td>0.0</td>\n",
       "    </tr>\n",
       "    <tr>\n",
       "      <th>_source.tags</th>\n",
       "      <td>None</td>\n",
       "      <td>Servicemember</td>\n",
       "      <td>None</td>\n",
       "      <td>None</td>\n",
       "    </tr>\n",
       "    <tr>\n",
       "      <th>_source.zip_code</th>\n",
       "      <td>90301</td>\n",
       "      <td>319XX</td>\n",
       "      <td>77069</td>\n",
       "      <td>48066</td>\n",
       "    </tr>\n",
       "    <tr>\n",
       "      <th>_source.complaint_id</th>\n",
       "      <td>3211475</td>\n",
       "      <td>3229299</td>\n",
       "      <td>3199379</td>\n",
       "      <td>2673060</td>\n",
       "    </tr>\n",
       "    <tr>\n",
       "      <th>_source.issue</th>\n",
       "      <td>Attempts to collect debt not owed</td>\n",
       "      <td>Written notification about debt</td>\n",
       "      <td>Other features, terms, or problems</td>\n",
       "      <td>Trouble during payment process</td>\n",
       "    </tr>\n",
       "    <tr>\n",
       "      <th>_source.date_received</th>\n",
       "      <td>2019-04-13T12:00:00-05:00</td>\n",
       "      <td>2019-05-01T12:00:00-05:00</td>\n",
       "      <td>2019-04-02T12:00:00-05:00</td>\n",
       "      <td>2017-09-13T12:00:00-05:00</td>\n",
       "    </tr>\n",
       "    <tr>\n",
       "      <th>_source.state</th>\n",
       "      <td>CA</td>\n",
       "      <td>GA</td>\n",
       "      <td>TX</td>\n",
       "      <td>MI</td>\n",
       "    </tr>\n",
       "    <tr>\n",
       "      <th>_source.consumer_disputed</th>\n",
       "      <td>N/A</td>\n",
       "      <td>N/A</td>\n",
       "      <td>N/A</td>\n",
       "      <td>N/A</td>\n",
       "    </tr>\n",
       "    <tr>\n",
       "      <th>_source.product</th>\n",
       "      <td>Debt collection</td>\n",
       "      <td>Debt collection</td>\n",
       "      <td>Credit card or prepaid card</td>\n",
       "      <td>Mortgage</td>\n",
       "    </tr>\n",
       "    <tr>\n",
       "      <th>_source.company_response</th>\n",
       "      <td>Closed with explanation</td>\n",
       "      <td>Closed with explanation</td>\n",
       "      <td>Closed with explanation</td>\n",
       "      <td>Closed with explanation</td>\n",
       "    </tr>\n",
       "    <tr>\n",
       "      <th>_source.company</th>\n",
       "      <td>JPMORGAN CHASE &amp; CO.</td>\n",
       "      <td>JPMORGAN CHASE &amp; CO.</td>\n",
       "      <td>JPMORGAN CHASE &amp; CO.</td>\n",
       "      <td>JPMORGAN CHASE &amp; CO.</td>\n",
       "    </tr>\n",
       "    <tr>\n",
       "      <th>_source.submitted_via</th>\n",
       "      <td>Web</td>\n",
       "      <td>Web</td>\n",
       "      <td>Web</td>\n",
       "      <td>Web</td>\n",
       "    </tr>\n",
       "    <tr>\n",
       "      <th>_source.date_sent_to_company</th>\n",
       "      <td>2019-04-13T12:00:00-05:00</td>\n",
       "      <td>2019-05-01T12:00:00-05:00</td>\n",
       "      <td>2019-04-02T12:00:00-05:00</td>\n",
       "      <td>2017-09-14T12:00:00-05:00</td>\n",
       "    </tr>\n",
       "    <tr>\n",
       "      <th>_source.company_public_response</th>\n",
       "      <td>None</td>\n",
       "      <td>None</td>\n",
       "      <td>None</td>\n",
       "      <td>None</td>\n",
       "    </tr>\n",
       "    <tr>\n",
       "      <th>_source.sub_product</th>\n",
       "      <td>Credit card debt</td>\n",
       "      <td>Credit card debt</td>\n",
       "      <td>General-purpose credit card or charge card</td>\n",
       "      <td>Conventional home mortgage</td>\n",
       "    </tr>\n",
       "    <tr>\n",
       "      <th>_source.timely</th>\n",
       "      <td>Yes</td>\n",
       "      <td>Yes</td>\n",
       "      <td>Yes</td>\n",
       "      <td>Yes</td>\n",
       "    </tr>\n",
       "    <tr>\n",
       "      <th>_source.complaint_what_happened</th>\n",
       "      <td></td>\n",
       "      <td>Good morning my name is XXXX XXXX and I apprec...</td>\n",
       "      <td>I upgraded my XXXX XXXX card in XX/XX/2018 and...</td>\n",
       "      <td></td>\n",
       "    </tr>\n",
       "    <tr>\n",
       "      <th>_source.sub_issue</th>\n",
       "      <td>Debt is not yours</td>\n",
       "      <td>Didn't receive enough information to verify debt</td>\n",
       "      <td>Problem with rewards from credit card</td>\n",
       "      <td>None</td>\n",
       "    </tr>\n",
       "    <tr>\n",
       "      <th>_source.consumer_consent_provided</th>\n",
       "      <td>Consent not provided</td>\n",
       "      <td>Consent provided</td>\n",
       "      <td>Consent provided</td>\n",
       "      <td>Consent not provided</td>\n",
       "    </tr>\n",
       "  </tbody>\n",
       "</table>\n",
       "</div>"
      ],
      "text/plain": [
       "                                                                   0  \\\n",
       "_index                                           complaint-public-v2   \n",
       "_type                                                      complaint   \n",
       "_id                                                          3211475   \n",
       "_score                                                           0.0   \n",
       "_source.tags                                                    None   \n",
       "_source.zip_code                                               90301   \n",
       "_source.complaint_id                                         3211475   \n",
       "_source.issue                      Attempts to collect debt not owed   \n",
       "_source.date_received                      2019-04-13T12:00:00-05:00   \n",
       "_source.state                                                     CA   \n",
       "_source.consumer_disputed                                        N/A   \n",
       "_source.product                                      Debt collection   \n",
       "_source.company_response                     Closed with explanation   \n",
       "_source.company                                 JPMORGAN CHASE & CO.   \n",
       "_source.submitted_via                                            Web   \n",
       "_source.date_sent_to_company               2019-04-13T12:00:00-05:00   \n",
       "_source.company_public_response                                 None   \n",
       "_source.sub_product                                 Credit card debt   \n",
       "_source.timely                                                   Yes   \n",
       "_source.complaint_what_happened                                        \n",
       "_source.sub_issue                                  Debt is not yours   \n",
       "_source.consumer_consent_provided               Consent not provided   \n",
       "\n",
       "                                                                                   1  \\\n",
       "_index                                                           complaint-public-v2   \n",
       "_type                                                                      complaint   \n",
       "_id                                                                          3229299   \n",
       "_score                                                                           0.0   \n",
       "_source.tags                                                           Servicemember   \n",
       "_source.zip_code                                                               319XX   \n",
       "_source.complaint_id                                                         3229299   \n",
       "_source.issue                                        Written notification about debt   \n",
       "_source.date_received                                      2019-05-01T12:00:00-05:00   \n",
       "_source.state                                                                     GA   \n",
       "_source.consumer_disputed                                                        N/A   \n",
       "_source.product                                                      Debt collection   \n",
       "_source.company_response                                     Closed with explanation   \n",
       "_source.company                                                 JPMORGAN CHASE & CO.   \n",
       "_source.submitted_via                                                            Web   \n",
       "_source.date_sent_to_company                               2019-05-01T12:00:00-05:00   \n",
       "_source.company_public_response                                                 None   \n",
       "_source.sub_product                                                 Credit card debt   \n",
       "_source.timely                                                                   Yes   \n",
       "_source.complaint_what_happened    Good morning my name is XXXX XXXX and I apprec...   \n",
       "_source.sub_issue                   Didn't receive enough information to verify debt   \n",
       "_source.consumer_consent_provided                                   Consent provided   \n",
       "\n",
       "                                                                                   2  \\\n",
       "_index                                                           complaint-public-v2   \n",
       "_type                                                                      complaint   \n",
       "_id                                                                          3199379   \n",
       "_score                                                                           0.0   \n",
       "_source.tags                                                                    None   \n",
       "_source.zip_code                                                               77069   \n",
       "_source.complaint_id                                                         3199379   \n",
       "_source.issue                                     Other features, terms, or problems   \n",
       "_source.date_received                                      2019-04-02T12:00:00-05:00   \n",
       "_source.state                                                                     TX   \n",
       "_source.consumer_disputed                                                        N/A   \n",
       "_source.product                                          Credit card or prepaid card   \n",
       "_source.company_response                                     Closed with explanation   \n",
       "_source.company                                                 JPMORGAN CHASE & CO.   \n",
       "_source.submitted_via                                                            Web   \n",
       "_source.date_sent_to_company                               2019-04-02T12:00:00-05:00   \n",
       "_source.company_public_response                                                 None   \n",
       "_source.sub_product                       General-purpose credit card or charge card   \n",
       "_source.timely                                                                   Yes   \n",
       "_source.complaint_what_happened    I upgraded my XXXX XXXX card in XX/XX/2018 and...   \n",
       "_source.sub_issue                              Problem with rewards from credit card   \n",
       "_source.consumer_consent_provided                                   Consent provided   \n",
       "\n",
       "                                                                3  \n",
       "_index                                        complaint-public-v2  \n",
       "_type                                                   complaint  \n",
       "_id                                                       2673060  \n",
       "_score                                                        0.0  \n",
       "_source.tags                                                 None  \n",
       "_source.zip_code                                            48066  \n",
       "_source.complaint_id                                      2673060  \n",
       "_source.issue                      Trouble during payment process  \n",
       "_source.date_received                   2017-09-13T12:00:00-05:00  \n",
       "_source.state                                                  MI  \n",
       "_source.consumer_disputed                                     N/A  \n",
       "_source.product                                          Mortgage  \n",
       "_source.company_response                  Closed with explanation  \n",
       "_source.company                              JPMORGAN CHASE & CO.  \n",
       "_source.submitted_via                                         Web  \n",
       "_source.date_sent_to_company            2017-09-14T12:00:00-05:00  \n",
       "_source.company_public_response                              None  \n",
       "_source.sub_product                    Conventional home mortgage  \n",
       "_source.timely                                                Yes  \n",
       "_source.complaint_what_happened                                    \n",
       "_source.sub_issue                                            None  \n",
       "_source.consumer_consent_provided            Consent not provided  "
      ]
     },
     "execution_count": 4,
     "metadata": {},
     "output_type": "execute_result"
    }
   ],
   "source": [
    "data.head(4).T"
   ]
  },
  {
   "cell_type": "markdown",
   "metadata": {},
   "source": [
    "## 2. Data cleaning"
   ]
  },
  {
   "cell_type": "markdown",
   "metadata": {},
   "source": [
    "Checking fir missing values"
   ]
  },
  {
   "cell_type": "code",
   "execution_count": 5,
   "metadata": {},
   "outputs": [
    {
     "data": {
      "text/plain": [
       "_index                                0.000000\n",
       "_type                                 0.000000\n",
       "_id                                   0.000000\n",
       "_score                                0.000000\n",
       "_source.tags                         86.081493\n",
       "_source.zip_code                      8.628197\n",
       "_source.complaint_id                  0.000000\n",
       "_source.issue                         0.000000\n",
       "_source.date_received                 0.000000\n",
       "_source.state                         2.542362\n",
       "_source.consumer_disputed             0.000000\n",
       "_source.product                       0.000000\n",
       "_source.company_response              0.000000\n",
       "_source.company                       0.000000\n",
       "_source.submitted_via                 0.000000\n",
       "_source.date_sent_to_company          0.000000\n",
       "_source.company_public_response      99.994892\n",
       "_source.sub_product                  13.498397\n",
       "_source.timely                        0.000000\n",
       "_source.complaint_what_happened       0.000000\n",
       "_source.sub_issue                    59.117899\n",
       "_source.consumer_consent_provided     1.287143\n",
       "dtype: float64"
      ]
     },
     "execution_count": 5,
     "metadata": {},
     "output_type": "execute_result"
    }
   ],
   "source": [
    "data.isnull().mean()*100 "
   ]
  },
  {
   "cell_type": "markdown",
   "metadata": {},
   "source": [
    "We do not really need all columns for the current task. Let's focus on following columns\n",
    "\n",
    "```python\n",
    "    [\n",
    "        '_source.product', \n",
    "        '_source.sub_product', \n",
    "        '_source.complaint_what_happened'\n",
    "    ]"
   ]
  },
  {
   "cell_type": "code",
   "execution_count": 6,
   "metadata": {},
   "outputs": [
    {
     "data": {
      "text/html": [
       "<div>\n",
       "<style scoped>\n",
       "    .dataframe tbody tr th:only-of-type {\n",
       "        vertical-align: middle;\n",
       "    }\n",
       "\n",
       "    .dataframe tbody tr th {\n",
       "        vertical-align: top;\n",
       "    }\n",
       "\n",
       "    .dataframe thead th {\n",
       "        text-align: right;\n",
       "    }\n",
       "</style>\n",
       "<table border=\"1\" class=\"dataframe\">\n",
       "  <thead>\n",
       "    <tr style=\"text-align: right;\">\n",
       "      <th></th>\n",
       "      <th>0</th>\n",
       "      <th>1</th>\n",
       "      <th>2</th>\n",
       "      <th>3</th>\n",
       "      <th>4</th>\n",
       "    </tr>\n",
       "  </thead>\n",
       "  <tbody>\n",
       "    <tr>\n",
       "      <th>_source.product</th>\n",
       "      <td>Debt collection</td>\n",
       "      <td>Debt collection</td>\n",
       "      <td>Credit card or prepaid card</td>\n",
       "      <td>Mortgage</td>\n",
       "      <td>Credit card or prepaid card</td>\n",
       "    </tr>\n",
       "    <tr>\n",
       "      <th>_source.sub_product</th>\n",
       "      <td>Credit card debt</td>\n",
       "      <td>Credit card debt</td>\n",
       "      <td>General-purpose credit card or charge card</td>\n",
       "      <td>Conventional home mortgage</td>\n",
       "      <td>General-purpose credit card or charge card</td>\n",
       "    </tr>\n",
       "    <tr>\n",
       "      <th>_source.complaint_what_happened</th>\n",
       "      <td></td>\n",
       "      <td>Good morning my name is XXXX XXXX and I apprec...</td>\n",
       "      <td>I upgraded my XXXX XXXX card in XX/XX/2018 and...</td>\n",
       "      <td></td>\n",
       "      <td></td>\n",
       "    </tr>\n",
       "  </tbody>\n",
       "</table>\n",
       "</div>"
      ],
      "text/plain": [
       "                                                0  \\\n",
       "_source.product                   Debt collection   \n",
       "_source.sub_product              Credit card debt   \n",
       "_source.complaint_what_happened                     \n",
       "\n",
       "                                                                                 1  \\\n",
       "_source.product                                                    Debt collection   \n",
       "_source.sub_product                                               Credit card debt   \n",
       "_source.complaint_what_happened  Good morning my name is XXXX XXXX and I apprec...   \n",
       "\n",
       "                                                                                 2  \\\n",
       "_source.product                                        Credit card or prepaid card   \n",
       "_source.sub_product                     General-purpose credit card or charge card   \n",
       "_source.complaint_what_happened  I upgraded my XXXX XXXX card in XX/XX/2018 and...   \n",
       "\n",
       "                                                          3  \\\n",
       "_source.product                                    Mortgage   \n",
       "_source.sub_product              Conventional home mortgage   \n",
       "_source.complaint_what_happened                               \n",
       "\n",
       "                                                                          4  \n",
       "_source.product                                 Credit card or prepaid card  \n",
       "_source.sub_product              General-purpose credit card or charge card  \n",
       "_source.complaint_what_happened                                              "
      ]
     },
     "execution_count": 6,
     "metadata": {},
     "output_type": "execute_result"
    }
   ],
   "source": [
    "data[['_source.product', '_source.sub_product', '_source.complaint_what_happened']].head().T"
   ]
  },
  {
   "cell_type": "code",
   "execution_count": 7,
   "metadata": {},
   "outputs": [
    {
     "data": {
      "text/plain": [
       "_source.product                                                             \n",
       "Mortgage                                                                        22725\n",
       "Checking or savings account                                                     12147\n",
       "Credit card or prepaid card                                                     10797\n",
       "Credit card                                                                     10373\n",
       "Bank account or service                                                          9816\n",
       "Credit reporting, credit repair services, or other personal consumer reports     4310\n",
       "Debt collection                                                                  3201\n",
       "Money transfer, virtual currency, or money service                               1500\n",
       "Consumer Loan                                                                    1029\n",
       "Vehicle loan or lease                                                             892\n",
       "Student loan                                                                      866\n",
       "Money transfers                                                                   228\n",
       "Credit reporting                                                                  192\n",
       "Payday loan, title loan, or personal loan                                         139\n",
       "Other financial service                                                            60\n",
       "Prepaid card                                                                       32\n",
       "Payday loan                                                                         6\n",
       "Name: count, dtype: int64"
      ]
     },
     "execution_count": 7,
     "metadata": {},
     "output_type": "execute_result"
    }
   ],
   "source": [
    "data[['_source.product']].value_counts()"
   ]
  },
  {
   "cell_type": "code",
   "execution_count": 8,
   "metadata": {},
   "outputs": [
    {
     "data": {
      "text/plain": [
       "_source.sub_product                       \n",
       "Checking account                              17182\n",
       "General-purpose credit card or charge card    10504\n",
       "Other mortgage                                 8447\n",
       "Conventional fixed mortgage                    4892\n",
       "Credit reporting                               4172\n",
       "                                              ...  \n",
       "Government benefit payment card                   4\n",
       "Gift or merchant card                             4\n",
       "Medical debt                                      2\n",
       "ID prepaid card                                   2\n",
       "Electronic Benefit Transfer / EBT card            1\n",
       "Name: count, Length: 72, dtype: int64"
      ]
     },
     "execution_count": 8,
     "metadata": {},
     "output_type": "execute_result"
    }
   ],
   "source": [
    "data[['_source.sub_product']].value_counts()"
   ]
  },
  {
   "cell_type": "markdown",
   "metadata": {},
   "source": [
    "Based on the objective of automating the classification of customer complaints using NLP techniques, only the relevant columns required for topic modeling and supervised classification are selected. The selected columns are:\n",
    "\n",
    "1. **`_source.complaint_what_happened`** – This column contains the actual complaint text provided by customers. It will serve as the primary input for topic modeling and classification.\n",
    "2. **`_source.product`** – This column represents the main product category associated with the complaint. It will be used to assign labels to the complaints after topic modeling.\n",
    "3. **`_source.sub_product`** – This column provides additional granularity regarding the product type, which can help refine the categorization if needed."
   ]
  },
  {
   "cell_type": "markdown",
   "metadata": {},
   "source": [
    "Let's drop all other columns and keep what we need"
   ]
  },
  {
   "cell_type": "code",
   "execution_count": 9,
   "metadata": {},
   "outputs": [
    {
     "data": {
      "text/plain": [
       "(78313, 3)"
      ]
     },
     "execution_count": 9,
     "metadata": {},
     "output_type": "execute_result"
    }
   ],
   "source": [
    "data = data[['_source.product', '_source.sub_product', '_source.complaint_what_happened']]\n",
    "data.shape"
   ]
  },
  {
   "cell_type": "code",
   "execution_count": 10,
   "metadata": {},
   "outputs": [
    {
     "data": {
      "text/plain": [
       "_source.product                     0.000000\n",
       "_source.sub_product                13.498397\n",
       "_source.complaint_what_happened     0.000000\n",
       "dtype: float64"
      ]
     },
     "execution_count": 10,
     "metadata": {},
     "output_type": "execute_result"
    }
   ],
   "source": [
    "data.isnull().mean()*100"
   ]
  },
  {
   "cell_type": "markdown",
   "metadata": {},
   "source": [
    "We also observed `_source.complaint_what_happened` has blanks. Let's take closer look"
   ]
  },
  {
   "cell_type": "code",
   "execution_count": 11,
   "metadata": {},
   "outputs": [
    {
     "data": {
      "text/html": [
       "<div>\n",
       "<style scoped>\n",
       "    .dataframe tbody tr th:only-of-type {\n",
       "        vertical-align: middle;\n",
       "    }\n",
       "\n",
       "    .dataframe tbody tr th {\n",
       "        vertical-align: top;\n",
       "    }\n",
       "\n",
       "    .dataframe thead th {\n",
       "        text-align: right;\n",
       "    }\n",
       "</style>\n",
       "<table border=\"1\" class=\"dataframe\">\n",
       "  <thead>\n",
       "    <tr style=\"text-align: right;\">\n",
       "      <th></th>\n",
       "      <th>_source.product</th>\n",
       "      <th>_source.sub_product</th>\n",
       "      <th>_source.complaint_what_happened</th>\n",
       "    </tr>\n",
       "  </thead>\n",
       "  <tbody>\n",
       "    <tr>\n",
       "      <th>0</th>\n",
       "      <td>Debt collection</td>\n",
       "      <td>Credit card debt</td>\n",
       "      <td></td>\n",
       "    </tr>\n",
       "    <tr>\n",
       "      <th>3</th>\n",
       "      <td>Mortgage</td>\n",
       "      <td>Conventional home mortgage</td>\n",
       "      <td></td>\n",
       "    </tr>\n",
       "    <tr>\n",
       "      <th>4</th>\n",
       "      <td>Credit card or prepaid card</td>\n",
       "      <td>General-purpose credit card or charge card</td>\n",
       "      <td></td>\n",
       "    </tr>\n",
       "    <tr>\n",
       "      <th>5</th>\n",
       "      <td>Checking or savings account</td>\n",
       "      <td>Checking account</td>\n",
       "      <td></td>\n",
       "    </tr>\n",
       "    <tr>\n",
       "      <th>6</th>\n",
       "      <td>Checking or savings account</td>\n",
       "      <td>Checking account</td>\n",
       "      <td></td>\n",
       "    </tr>\n",
       "    <tr>\n",
       "      <th>...</th>\n",
       "      <td>...</td>\n",
       "      <td>...</td>\n",
       "      <td>...</td>\n",
       "    </tr>\n",
       "    <tr>\n",
       "      <th>78304</th>\n",
       "      <td>Mortgage</td>\n",
       "      <td>Conventional home mortgage</td>\n",
       "      <td></td>\n",
       "    </tr>\n",
       "    <tr>\n",
       "      <th>78305</th>\n",
       "      <td>Checking or savings account</td>\n",
       "      <td>Other banking product or service</td>\n",
       "      <td></td>\n",
       "    </tr>\n",
       "    <tr>\n",
       "      <th>78306</th>\n",
       "      <td>Checking or savings account</td>\n",
       "      <td>Checking account</td>\n",
       "      <td></td>\n",
       "    </tr>\n",
       "    <tr>\n",
       "      <th>78307</th>\n",
       "      <td>Mortgage</td>\n",
       "      <td>Conventional home mortgage</td>\n",
       "      <td></td>\n",
       "    </tr>\n",
       "    <tr>\n",
       "      <th>78308</th>\n",
       "      <td>Checking or savings account</td>\n",
       "      <td>Checking account</td>\n",
       "      <td></td>\n",
       "    </tr>\n",
       "  </tbody>\n",
       "</table>\n",
       "<p>57241 rows × 3 columns</p>\n",
       "</div>"
      ],
      "text/plain": [
       "                   _source.product  \\\n",
       "0                  Debt collection   \n",
       "3                         Mortgage   \n",
       "4      Credit card or prepaid card   \n",
       "5      Checking or savings account   \n",
       "6      Checking or savings account   \n",
       "...                            ...   \n",
       "78304                     Mortgage   \n",
       "78305  Checking or savings account   \n",
       "78306  Checking or savings account   \n",
       "78307                     Mortgage   \n",
       "78308  Checking or savings account   \n",
       "\n",
       "                              _source.sub_product  \\\n",
       "0                                Credit card debt   \n",
       "3                      Conventional home mortgage   \n",
       "4      General-purpose credit card or charge card   \n",
       "5                                Checking account   \n",
       "6                                Checking account   \n",
       "...                                           ...   \n",
       "78304                  Conventional home mortgage   \n",
       "78305            Other banking product or service   \n",
       "78306                            Checking account   \n",
       "78307                  Conventional home mortgage   \n",
       "78308                            Checking account   \n",
       "\n",
       "      _source.complaint_what_happened  \n",
       "0                                      \n",
       "3                                      \n",
       "4                                      \n",
       "5                                      \n",
       "6                                      \n",
       "...                               ...  \n",
       "78304                                  \n",
       "78305                                  \n",
       "78306                                  \n",
       "78307                                  \n",
       "78308                                  \n",
       "\n",
       "[57241 rows x 3 columns]"
      ]
     },
     "execution_count": 11,
     "metadata": {},
     "output_type": "execute_result"
    }
   ],
   "source": [
    "data[data['_source.complaint_what_happened'] == '']"
   ]
  },
  {
   "cell_type": "code",
   "execution_count": 12,
   "metadata": {},
   "outputs": [
    {
     "data": {
      "text/plain": [
       "(57241, 3)"
      ]
     },
     "execution_count": 12,
     "metadata": {},
     "output_type": "execute_result"
    }
   ],
   "source": [
    "data[data['_source.complaint_what_happened'] == ''].shape"
   ]
  },
  {
   "cell_type": "markdown",
   "metadata": {},
   "source": [
    "We cannot really do anything with blank complains so we will be droppoing these rows."
   ]
  },
  {
   "cell_type": "code",
   "execution_count": 13,
   "metadata": {},
   "outputs": [
    {
     "data": {
      "text/plain": [
       "(21072, 3)"
      ]
     },
     "execution_count": 13,
     "metadata": {},
     "output_type": "execute_result"
    }
   ],
   "source": [
    "data = data[data['_source.complaint_what_happened'] != ''].copy(deep=True)\n",
    "data.shape"
   ]
  },
  {
   "cell_type": "code",
   "execution_count": 14,
   "metadata": {},
   "outputs": [
    {
     "data": {
      "text/plain": [
       "_source.product                     0.000000\n",
       "_source.sub_product                10.008542\n",
       "_source.complaint_what_happened     0.000000\n",
       "dtype: float64"
      ]
     },
     "execution_count": 14,
     "metadata": {},
     "output_type": "execute_result"
    }
   ],
   "source": [
    "data.isnull().mean()*100"
   ]
  },
  {
   "cell_type": "markdown",
   "metadata": {},
   "source": [
    "Renaming column to simpler names"
   ]
  },
  {
   "cell_type": "code",
   "execution_count": 15,
   "metadata": {},
   "outputs": [
    {
     "data": {
      "text/html": [
       "<div>\n",
       "<style scoped>\n",
       "    .dataframe tbody tr th:only-of-type {\n",
       "        vertical-align: middle;\n",
       "    }\n",
       "\n",
       "    .dataframe tbody tr th {\n",
       "        vertical-align: top;\n",
       "    }\n",
       "\n",
       "    .dataframe thead th {\n",
       "        text-align: right;\n",
       "    }\n",
       "</style>\n",
       "<table border=\"1\" class=\"dataframe\">\n",
       "  <thead>\n",
       "    <tr style=\"text-align: right;\">\n",
       "      <th></th>\n",
       "      <th>1</th>\n",
       "      <th>2</th>\n",
       "      <th>10</th>\n",
       "    </tr>\n",
       "  </thead>\n",
       "  <tbody>\n",
       "    <tr>\n",
       "      <th>product</th>\n",
       "      <td>Debt collection</td>\n",
       "      <td>Credit card or prepaid card</td>\n",
       "      <td>Credit reporting, credit repair services, or o...</td>\n",
       "    </tr>\n",
       "    <tr>\n",
       "      <th>sub_product</th>\n",
       "      <td>Credit card debt</td>\n",
       "      <td>General-purpose credit card or charge card</td>\n",
       "      <td>Other personal consumer report</td>\n",
       "    </tr>\n",
       "    <tr>\n",
       "      <th>complaint</th>\n",
       "      <td>Good morning my name is XXXX XXXX and I apprec...</td>\n",
       "      <td>I upgraded my XXXX XXXX card in XX/XX/2018 and...</td>\n",
       "      <td>Chase Card was reported on XX/XX/2019. However...</td>\n",
       "    </tr>\n",
       "  </tbody>\n",
       "</table>\n",
       "</div>"
      ],
      "text/plain": [
       "                                                            1   \\\n",
       "product                                        Debt collection   \n",
       "sub_product                                   Credit card debt   \n",
       "complaint    Good morning my name is XXXX XXXX and I apprec...   \n",
       "\n",
       "                                                            2   \\\n",
       "product                            Credit card or prepaid card   \n",
       "sub_product         General-purpose credit card or charge card   \n",
       "complaint    I upgraded my XXXX XXXX card in XX/XX/2018 and...   \n",
       "\n",
       "                                                            10  \n",
       "product      Credit reporting, credit repair services, or o...  \n",
       "sub_product                     Other personal consumer report  \n",
       "complaint    Chase Card was reported on XX/XX/2019. However...  "
      ]
     },
     "execution_count": 15,
     "metadata": {},
     "output_type": "execute_result"
    }
   ],
   "source": [
    "data = data.rename(\n",
    "    columns={\n",
    "        '_source.product' : 'product',\n",
    "        '_source.sub_product': 'sub_product',\n",
    "        '_source.complaint_what_happened': 'complaint' \n",
    "    }\n",
    ")\n",
    "\n",
    "data.head(3).T"
   ]
  },
  {
   "cell_type": "code",
   "execution_count": 16,
   "metadata": {},
   "outputs": [],
   "source": [
    "data = data.reset_index()"
   ]
  },
  {
   "cell_type": "code",
   "execution_count": 17,
   "metadata": {},
   "outputs": [
    {
     "data": {
      "text/plain": [
       "(21072, 4)"
      ]
     },
     "execution_count": 17,
     "metadata": {},
     "output_type": "execute_result"
    }
   ],
   "source": [
    "data.shape"
   ]
  },
  {
   "cell_type": "markdown",
   "metadata": {},
   "source": [
    "## 3: Text Preprocessing"
   ]
  },
  {
   "cell_type": "markdown",
   "metadata": {},
   "source": [
    "\n",
    "To prepare the text data for topic modeling and classification, several preprocessing steps are applied to enhance the quality and reduce noise in the complaint text. The following steps have been implemented:\n",
    "\n",
    "1. **Lowercasing:** - Standardizing the text by converting all words to lowercase.\n",
    "2. **Removing punctuation and special characters:** - Cleaning the text by eliminating unnecessary symbols, numbers, and special characters.\n",
    "3. **Tokenization and Stopword Removal:** - Splitting the text into individual words and removing common stopwords that do not add value to analysis.\n",
    "4. **Lemmatization:** - Converting words to their root form to minimize vocabulary size while retaining meaning.\n",
    "5. **POS Tagging and Filtering:** - Extracting only relevant parts of speech, such as:\n",
    "     - **Nouns (NN, NNS)** – To retain key entities in complaints.\n",
    "     - **Verbs (VB, VBD, VBG, VBN, VBP, VBZ)** – To capture actions.\n",
    "     - **Adjectives (JJ, JJR, JJS)** – To retain descriptive elements. "
   ]
  },
  {
   "cell_type": "code",
   "execution_count": 18,
   "metadata": {},
   "outputs": [],
   "source": [
    "import nltk\n",
    "from nltk.corpus import stopwords\n",
    "from nltk.tokenize import word_tokenize\n",
    "from nltk.stem import WordNetLemmatizer\n",
    "import spacy"
   ]
  },
  {
   "cell_type": "code",
   "execution_count": 19,
   "metadata": {},
   "outputs": [
    {
     "data": {
      "text/plain": [
       "True"
      ]
     },
     "execution_count": 19,
     "metadata": {},
     "output_type": "execute_result"
    }
   ],
   "source": [
    "# Download necessary NLTK resources if not already available\n",
    "nltk.download('punkt', quiet=True)\n",
    "nltk.download('stopwords', quiet=True)\n",
    "nltk.download('wordnet', quiet=True)"
   ]
  },
  {
   "cell_type": "code",
   "execution_count": 20,
   "metadata": {},
   "outputs": [],
   "source": [
    "# Industry-specific terms to retain (normalized to lowercase for case-insensitive matching)\n",
    "industry_terms = set(term.lower() for term in [\n",
    "\n",
    "    # Credit card/Prepaid card\n",
    "    \"Credit Card\", \n",
    "    \"Credit Card statement\", \n",
    "    \"Credit Score\", \n",
    "    \"Credit Report\", \n",
    "    \"Credit Limit\", \n",
    "    \"Credit Line Increase\", \n",
    "    \"Credit Inquiry\", \n",
    "    \"Credit Freeze\", \n",
    "    \"Chargeback\", \n",
    "    \"Balance Transfer\", \n",
    "    \"Cash Advance\", \n",
    "    \"APR\", \n",
    "    \"Interest Rate\", \n",
    "    \"Chase Credit Card\", \n",
    "    \"Chase\", \n",
    "    \"autopay\", \n",
    "\n",
    "    # Bank account services\n",
    "    \"savings\",           \n",
    "    \"savings account\",           \n",
    "    \"bank product service\",           \n",
    "    \"JP Morgan Chase\", \n",
    "    \"J.P. Morgan Chase\", \n",
    "    \"Chase Bank\", \n",
    "    \"Chase Mortgage\", \n",
    "    \"JP Morgan\", \n",
    "    \"bank statement\",\n",
    "    \"Checking Account\", \n",
    "    \"Savings Account\", \n",
    "    \"Money Market\", \n",
    "    \"Certificate of Deposit\", \n",
    "    \"Online Banking\", \n",
    "    \"Mobile Banking\", \n",
    "    \"Funds Availability\", \n",
    "    \"Account Closure\", \n",
    "    \"Account Freeze\", \n",
    "    \"Account Access\", \n",
    "    \"Statement Discrepancy\", \n",
    "\n",
    "    # Theft/Dispute reporting\n",
    "    \"Fraud\", \n",
    "    \"Identity Theft\", \n",
    "    \"Unauthorized Transaction\", \n",
    "    \"Account Takeover\", \n",
    "    \"Phishing\", \n",
    "    \"Security Breach\", \n",
    "    \"Complaint\", \n",
    "    \"Dispute\", \n",
    "    \"Escalation\", \n",
    "    \"Debt Collection\", \n",
    "    \"Repossession\", \n",
    "    \"Collection Notice\", \n",
    "    \"Garnishment\", \n",
    "    \"Resolution\", \n",
    "    \"Service Outage\", \n",
    "\n",
    "    # Mortgages/loans\n",
    "    \"Chase Auto\", \n",
    "    \"Home Loan\", \n",
    "    \"Auto Loan\", \n",
    "    \"Personal Loan\", \n",
    "    \"Student Loan\", \n",
    "    \"Consumer Loan\", \n",
    "    \"Business Loan\", \n",
    "    \"Mortgage Loan\", \n",
    "    \"Loan Refinancing\", \n",
    "    \"Loan Application\", \n",
    "    \"Loan Denial\", \n",
    "    \"Loan Modification\", \n",
    "    \"Debt Consolidation\", \n",
    "    \"Foreclosure\", \n",
    "    \"Property\", \n",
    "\n",
    "    # Others\n",
    "    \"Late Fee\", \n",
    "    \"Scam\", \n",
    "    \"Transaction Fee\", \n",
    "    \"Overdraft\", \n",
    "    \"Payment Due\", \n",
    "    \"Returned Payment\", \n",
    "    \"Billing Statement\", \n",
    "    \"Minimum Payment\", \n",
    "    \"Autopay\", \n",
    "    \"ACH Transfer\", \n",
    "    \"Wire Transfer\", \n",
    "    \"Wire Fraud\", \n",
    "    \"Direct Deposit\", \n",
    "    \"Pending Transaction\", \n",
    "    \"Card Replacement\", \n",
    "    \"ATM Withdrawal\", \n",
    "    \"Lawsuit\", \n",
    "    \"Regulatory Compliance\", \n",
    "    \"Fair Credit Reporting Act\", \n",
    "    \"Consumer Financial Protection Bureau\", \n",
    "    \"Terms and Conditions\", \n",
    "    \"Rewards Program\"\n",
    "])\n"
   ]
  },
  {
   "cell_type": "code",
   "execution_count": 21,
   "metadata": {},
   "outputs": [],
   "source": [
    "# Step 1: Text Cleanup\n",
    "def clean_text(text: str) -> str:\n",
    "    \"\"\"\n",
    "    Preprocess complaint text by applying lowercasing, removing special characters, \n",
    "    tokenizing, removing stopwords, and removing repeated words.\n",
    "\n",
    "    Args:\n",
    "        text (str): Input complaint text.\n",
    "\n",
    "    Returns:\n",
    "        str: Cleaned and processed text.\n",
    "    \"\"\"\n",
    "    text = text.lower()  # Convert text to lowercase for uniformity\n",
    "\n",
    "    # Fix slashes in dates (e.g., XX\\/XX\\/XXXX to XX/XX/XXXX)\n",
    "    text = re.sub(r'\\\\/', '/', text)\n",
    "\n",
    "    # Remove masked date formats like XX/XX/XXXX with or without spaces\n",
    "    text = re.sub(r'\\b[x]{2,}\\s?/\\s?[x]{2,}\\s?/\\s?\\d{4}\\b', '', text)\n",
    "    text = re.sub(r'\\b[x]{2,}/[x]{2,}/\\d{2}\\b', '', text)\n",
    "\n",
    "    # Remove masked personal identifiers (e.g., XXXX XXXX XXXX XXXX)\n",
    "    text = re.sub(r'[x]{2,}\\s?[x]{2,}\\s?[x]{2,}\\s?[x]{2,}', '', text)\n",
    "\n",
    "    # Remove monetary values (e.g., {$70.00})\n",
    "    text = re.sub(r'\\{\\$\\d{1,6}\\.\\d{2}\\}', '', text)\n",
    "\n",
    "    # Replace generic placeholders (e.g., XXXX) with an empty string\n",
    "    text = re.sub(r'x{2,}', '', text)\n",
    "\n",
    "    # Replace interest rates (e.g., 4.125 %)\n",
    "    text = re.sub(r'\\b\\d+(\\.\\d+)?\\s?%\\b', '[INTEREST_RATE]', text)\n",
    "    text = re.sub(r'\\bAPR\\s\\d+(\\.\\d+)?\\s?%\\b', 'APR [INTEREST_RATE]', text)\n",
    "\n",
    "    # Remove unwanted characters like dashes and special characters\n",
    "    text = re.sub(r'(-\\s?)+', '', text)\n",
    "    text = re.sub(r'Claim number x{2,}', '', text)\n",
    "\n",
    "    # Remove '[ name redacted ]' placeholders\n",
    "    text = re.sub(r'\\[ name redacted \\]', '', text)\n",
    "\n",
    "    # Remove non-alphanumeric characters and extra spaces\n",
    "    text = re.sub(r'\\\\n', ' ', text)  # Remove new lines\n",
    "    text = re.sub(r'[^\\w\\s]', ' ', text)  # Remove punctuation\n",
    "    text = re.sub(r'\\s+', ' ', text).strip()  # Remove multiple spaces\n",
    "\n",
    "    # Remove repeated words (e.g., \"card card card issue\" -> \"card issue\")\n",
    "    text = re.sub(r'\\b(\\w+)(?:[\\s,;:/\\\\-]+\\1\\b)+', r'\\1', text)\n",
    "\n",
    "    return text"
   ]
  },
  {
   "cell_type": "code",
   "execution_count": 22,
   "metadata": {},
   "outputs": [],
   "source": [
    "# Load spaCy English NLP model\n",
    "nlp = spacy.load(\"en_core_web_sm\")\n",
    "\n",
    "# Define POS tags to retain (nouns, verbs, adjectives)\n",
    "POS_TAGS_TO_KEEP = {'NN', 'NNS', 'VB', 'VBD', 'VBG', 'VBN', 'VBP', 'VBZ', 'JJ', 'JJR', 'JJS'}\n",
    "\n",
    "# Step 2: POS Tag Removal\n",
    "def remove_unwanted_pos_tags(texts: pd.Series) -> pd.Series:\n",
    "    \"\"\"\n",
    "    Retain specific POS tags (nouns, verbs, adjectives) while removing others.\n",
    "\n",
    "    Args:\n",
    "        texts (pd.Series): Series containing text data.\n",
    "\n",
    "    Returns:\n",
    "        pd.Series: Processed text with only selected POS tags retained.\n",
    "    \"\"\"\n",
    "    processed_sentences = []\n",
    "\n",
    "    for doc in nlp.pipe(texts, disable=['ner', 'parser']):  # Disable unnecessary components for efficiency\n",
    "        filtered_words = [\n",
    "            token.lemma_ if token.tag_ in POS_TAGS_TO_KEEP or token.text.lower() in industry_terms else ''\n",
    "            for token in doc\n",
    "        ]\n",
    "        # Remove empty strings and reconstruct processed text\n",
    "        processed_text = ' '.join([word for word in filtered_words if word])\n",
    "        processed_sentences.append(processed_text)\n",
    "\n",
    "    return pd.Series(processed_sentences)"
   ]
  },
  {
   "cell_type": "code",
   "execution_count": 23,
   "metadata": {},
   "outputs": [],
   "source": [
    "lemmatizer = WordNetLemmatizer()\n",
    "\n",
    "# Step 3: Lemmatization\n",
    "def lemmatize_text(text: str) -> str:\n",
    "    \"\"\"\n",
    "    Lemmatize text after tokenization and stopword removal.\n",
    "\n",
    "    Args:\n",
    "        text (str): Input text to be lemmatized.\n",
    "\n",
    "    Returns:\n",
    "        str: Lemmatized text.\n",
    "    \"\"\"\n",
    "    tokens = word_tokenize(text)  # Tokenize the text\n",
    "    tokens = [word for word in tokens if word not in stopwords.words('english')]  # Remove stopwords\n",
    "    tokens = [lemmatizer.lemmatize(word) for word in tokens]  # Apply lemmatization\n",
    "\n",
    "    return ' '.join(tokens)"
   ]
  },
  {
   "cell_type": "code",
   "execution_count": 24,
   "metadata": {},
   "outputs": [],
   "source": [
    "# Step 1: Clean text\n",
    "data['complaint_regex'] = data['complaint'].apply(clean_text)"
   ]
  },
  {
   "cell_type": "code",
   "execution_count": 25,
   "metadata": {},
   "outputs": [],
   "source": [
    "# Step 2: POS Tag filtering\n",
    "data['complaint_POS_Tag_Removed'] = remove_unwanted_pos_tags(data['complaint_regex'])"
   ]
  },
  {
   "cell_type": "code",
   "execution_count": 26,
   "metadata": {},
   "outputs": [],
   "source": [
    "# Step 3: Lemmatization\n",
    "data['complaint_cleaned'] = data['complaint_POS_Tag_Removed'].astype(str).apply(lemmatize_text)"
   ]
  },
  {
   "cell_type": "code",
   "execution_count": 27,
   "metadata": {},
   "outputs": [],
   "source": [
    "# Removing occurrences of -PRON- from the complaint_POS_removed column added by lemmatization\n",
    "# data['complaint_cleaned'] = data['complaint_cleaned'].str.replace('-PRON-', '')"
   ]
  },
  {
   "cell_type": "markdown",
   "metadata": {},
   "source": [
    "`Some hard work`. Let's review complaints after clean up and iteratively improve the cleaning"
   ]
  },
  {
   "cell_type": "code",
   "execution_count": 28,
   "metadata": {},
   "outputs": [],
   "source": [
    "data['complaint'].to_json('complaint1.json', indent=4)\n",
    "data['complaint_regex'].to_json('complaint2.json', indent=4)\n",
    "data['complaint_POS_Tag_Removed'].to_json('complaint3.json', indent=4)\n",
    "data['complaint_cleaned'].to_json('complaint4.json', indent=4)"
   ]
  },
  {
   "cell_type": "markdown",
   "metadata": {},
   "source": [
    "## 4: Exploratory Data Analysis (EDA)"
   ]
  },
  {
   "cell_type": "markdown",
   "metadata": {},
   "source": [
    "\n",
    "In this step, we will analyze the preprocessed complaint text data to gain insights into its structure and content. The following analyses will be performed:\n",
    "\n",
    "1. **Character Length Distribution**  \n",
    "   - Visualizing the distribution of text lengths for the columns:  \n",
    "     - `complaint`  \n",
    "     - `complaint_cleaned`  \n",
    "     - `complaint_POS_Tag_Removed`  \n",
    "\n",
    "2. **Word Cloud Visualization**  \n",
    "   - Generating a word cloud to visualize the top 40 most frequent words across all complaints after text processing.\n",
    "\n",
    "3. **N-gram Analysis**  \n",
    "   - Calculating and displaying the top 30 most frequent:  \n",
    "     - **Unigrams (single words)**  \n",
    "     - **Bigrams (two-word phrases)**  \n",
    "     - **Trigrams (three-word phrases)**  \n",
    "   - Printing the top 10 words for each case to observe patterns in the complaint text.\n"
   ]
  },
  {
   "cell_type": "code",
   "execution_count": 29,
   "metadata": {},
   "outputs": [],
   "source": [
    "import matplotlib.pyplot as plt\n",
    "import seaborn as sns\n",
    "from wordcloud import WordCloud"
   ]
  },
  {
   "cell_type": "code",
   "execution_count": 30,
   "metadata": {},
   "outputs": [
    {
     "data": {
      "image/png": "[encoded data removed]",
      "text/plain": [
       "<Figure size 1000x500 with 1 Axes>"
      ]
     },
     "metadata": {},
     "output_type": "display_data"
    }
   ],
   "source": [
    "# Define words to exclude from the word cloud\n",
    "exclude_words = {'redacted', 'amount', 'date', 'interest_rate', 'apr', 'claim_num'}\n",
    "\n",
    "# Generate the word cloud excluding specific words\n",
    "wordcloud = WordCloud(\n",
    "    width=700, \n",
    "    height=400, \n",
    "    max_words=40, \n",
    "    background_color='white',\n",
    "    stopwords=exclude_words,  # Exclude specified words\n",
    "    random_state=42\n",
    ").generate(' '.join(data['complaint_cleaned']))\n",
    "\n",
    "# Display the word cloud\n",
    "plt.figure(figsize=(10, 5))\n",
    "plt.imshow(wordcloud, interpolation='bilinear')\n",
    "plt.axis('off')\n",
    "plt.title('Top 40 Words in complaint_cleaned (Excluding Placeholders)')\n",
    "plt.show()"
   ]
  },
  {
   "cell_type": "code",
   "execution_count": 31,
   "metadata": {},
   "outputs": [
    {
     "data": {
      "image/png": "[encoded data removed]",
      "text/plain": [
       "<Figure size 700x500 with 1 Axes>"
      ]
     },
     "metadata": {},
     "output_type": "display_data"
    }
   ],
   "source": [
    "data['complaint_length'] = data['complaint'].astype(str).apply(len)\n",
    "data['complaint_cleaned_length'] = data['complaint_cleaned'].astype(str).apply(len)\n",
    "data['pos_removed_length'] = data['complaint_POS_Tag_Removed'].astype(str).apply(len)\n",
    "\n",
    "plt.figure(figsize=(7, 5))\n",
    "sns.kdeplot(data['complaint_length'], label='Original Complaint', fill=True, color=\"#1f77b4\", alpha=0.5)\n",
    "sns.kdeplot(data['pos_removed_length'], label='POS Removed', fill=True, color=\"#2ca02c\", alpha=0.5)\n",
    "sns.kdeplot(data['complaint_cleaned_length'], label='Cleaned Complaint', fill=True, color=\"#ff7f0e\", alpha=0.5)\n",
    "\n",
    "plt.title('Density Distribution of Complaint Character Lengths', fontsize=16, fontweight='bold')\n",
    "plt.xlabel('Character Length', fontsize=14)\n",
    "plt.ylabel('Density', fontsize=14)\n",
    "plt.legend(fontsize=12)\n",
    "plt.grid(axis='y', linestyle='--', alpha=0.7)\n",
    "plt.show()"
   ]
  },
  {
   "cell_type": "code",
   "execution_count": 32,
   "metadata": {},
   "outputs": [],
   "source": [
    "from sklearn.feature_extraction.text import CountVectorizer\n",
    "\n",
    "def get_top_ngrams(text_series: pd.Series, n: int, top_k: int):\n",
    "    \"\"\"\n",
    "    Extract and return the top-k most common n-grams from the given text data without dense conversion.\n",
    "\n",
    "    Args:\n",
    "        text_series (pd.Series): Series containing preprocessed text data.\n",
    "        n (int): N-gram size (1 for unigram, 2 for bigram, 3 for trigram).\n",
    "        top_k (int): Number of top n-grams to return.\n",
    "\n",
    "    Returns:\n",
    "        list: List of tuples containing the top n-grams and their frequencies.\n",
    "    \"\"\"\n",
    "    vectorizer = CountVectorizer(ngram_range=(n, n))\n",
    "    ngram_matrix = vectorizer.fit_transform(text_series.dropna())\n",
    "    \n",
    "    # Use sparse matrix sum to avoid converting to dense array\n",
    "    ngram_counts = ngram_matrix.sum(axis=0)\n",
    "\n",
    "    # Get feature names and their counts\n",
    "    ngram_vocab = vectorizer.get_feature_names_out()\n",
    "    ngram_freqs = [(ngram_vocab[idx], ngram_counts[0, idx]) for idx in range(ngram_counts.shape[1])]\n",
    "    \n",
    "    # Sort and return top K n-grams\n",
    "    top_ngrams = sorted(ngram_freqs, key=lambda x: x[1], reverse=True)[:top_k]\n",
    "    return top_ngrams"
   ]
  },
  {
   "cell_type": "code",
   "execution_count": 33,
   "metadata": {},
   "outputs": [
    {
     "name": "stdout",
     "output_type": "stream",
     "text": [
      "    Unigrams      Count\n",
      "--  ----------  -------\n",
      " 0  chase         80947\n",
      " 1  account       48639\n",
      " 2  credit        34218\n",
      " 3  card          30496\n",
      " 4  call          26087\n",
      " 5  bank          22559\n",
      " 6  payment       21198\n",
      " 7  tell          19668\n",
      " 8  charge        18262\n",
      " 9  receive       17735\n"
     ]
    }
   ],
   "source": [
    "top_unigrams = get_top_ngrams(data['complaint_cleaned'], 1, 10)\n",
    "print(tabulate(top_unigrams, headers=['Unigrams', 'Count'], showindex=True,))"
   ]
  },
  {
   "cell_type": "code",
   "execution_count": 34,
   "metadata": {},
   "outputs": [
    {
     "name": "stdout",
     "output_type": "stream",
     "text": [
      "    Bigrams             Count\n",
      "--  ----------------  -------\n",
      " 0  credit card         12854\n",
      " 1  chase bank           7535\n",
      " 2  call chase           5262\n",
      " 3  credit report        3966\n",
      " 4  customer service     3063\n",
      " 5  close account        2957\n",
      " 6  chase credit         2800\n",
      " 7  account chase        2790\n",
      " 8  checking account     2518\n",
      " 9  contact chase        2433\n"
     ]
    }
   ],
   "source": [
    "top_bigrams = get_top_ngrams(data['complaint_cleaned'], 2, 10)\n",
    "print(tabulate(top_bigrams, headers=['Bigrams', 'Count'], showindex=True,))"
   ]
  },
  {
   "cell_type": "code",
   "execution_count": 35,
   "metadata": {},
   "outputs": [
    {
     "name": "stdout",
     "output_type": "stream",
     "text": [
      "    Trigrams                  Count\n",
      "--  ----------------------  -------\n",
      " 0  chase credit card          2378\n",
      " 1  credit card account         977\n",
      " 2  credit card company         964\n",
      " 3  credit card chase           807\n",
      " 4  chase customer service      596\n",
      " 5  receive letter chase        571\n",
      " 6  call customer service       544\n",
      " 7  account chase bank          481\n",
      " 8  inquiry credit report       436\n",
      " 9  file police report          428\n"
     ]
    }
   ],
   "source": [
    "top_trigrams = get_top_ngrams(data['complaint_cleaned'], 3, 10)\n",
    "print(tabulate(top_trigrams, headers=['Trigrams', 'Count'], showindex=True,))"
   ]
  },
  {
   "cell_type": "markdown",
   "metadata": {},
   "source": [
    "## 5: Feature Extraction"
   ]
  },
  {
   "cell_type": "markdown",
   "metadata": {},
   "source": [
    "In this step, we will transform the processed complaint text into numerical representations using **TF-IDF (Term Frequency-Inverse Document Frequency)**. This transformation will convert textual data into a format suitable for machine learning models.\n",
    "\n",
    "Steps to be followed:\n",
    "1. Apply the TF-Idata vectorization to the `cleaned_complaint` column.\n",
    "2. Convert text data into a sparse numerical matrix.\n",
    "3. Save the transformed data for further processing."
   ]
  },
  {
   "cell_type": "code",
   "execution_count": 36,
   "metadata": {},
   "outputs": [],
   "source": [
    "from sklearn.feature_extraction.text import TfidfVectorizer\n",
    "\n",
    "# Initialize TF-IDF vectorizer\n",
    "tfidf_vectorizer = TfidfVectorizer(\n",
    "    max_features=5000,      # Limit features to prevent memory overload\n",
    "    stop_words='english',   # Remove common stopwords\n",
    "    ngram_range=(1, 4),     # Use both unigrams and bigrams\n",
    "    max_df=0.95,            # Ignore terms that appear in more than 95% of documents\n",
    "    min_df=5                # Ignore terms that appear in less than 5 documents\n",
    ")\n",
    "\n",
    "# Apply TF-IDF transformation\n",
    "X_tfidf = tfidf_vectorizer.fit_transform(data['complaint_cleaned'].dropna())"
   ]
  },
  {
   "cell_type": "code",
   "execution_count": 37,
   "metadata": {},
   "outputs": [
    {
     "name": "stdout",
     "output_type": "stream",
     "text": [
      "TF-IDF feature extraction completed. Saved the vectorizer and features for further processing.\n"
     ]
    }
   ],
   "source": [
    "import pickle\n",
    "\n",
    "# Save the feature matrix\n",
    "with open('tfidf_features.pkl', 'wb') as feat_file:\n",
    "    pickle.dump(X_tfidf, feat_file)\n",
    "\n",
    "print(\"TF-IDF feature extraction completed. Saved the vectorizer and features for further processing.\")"
   ]
  },
  {
   "cell_type": "markdown",
   "metadata": {},
   "source": [
    "## 6: Topic Modeling"
   ]
  },
  {
   "cell_type": "markdown",
   "metadata": {},
   "source": [
    "\n",
    "In this step, we will apply **Non-Negative Matrix Factorization (NMF)** to the TF-IDF feature matrix obtained from the previous step. The goal of topic modeling is to identify key themes or topics within the customer complaints and categorize them into meaningful clusters.\n",
    "\n",
    "Steps Involved:\n",
    "1. Load the TF-IDF matrix and vectorizer.\n",
    "2. Apply NMF with the number of topics set to 5 (as per the assignment instructions).\n",
    "3. Extract the top words associated with each topic.\n",
    "4. Assign a label to each complaint based on the highest topic weight.\n"
   ]
  },
  {
   "cell_type": "code",
   "execution_count": 38,
   "metadata": {},
   "outputs": [],
   "source": [
    "from sklearn.decomposition import NMF\n",
    "\n",
    "# Define the number of topics based on the assignment requirement\n",
    "num_topics = 5\n",
    "\n",
    "# Apply NMF for topic modeling\n",
    "nmf_model = NMF(n_components=num_topics, random_state=42)\n",
    "W = nmf_model.fit_transform(X_tfidf)  # Document-topic matrix\n",
    "H = nmf_model.components_  # Topic-term matrix\n",
    "\n",
    "# Assign each complaint to the most relevant topic\n",
    "data['topic'] = np.argmax(W, axis=1)\n"
   ]
  },
  {
   "cell_type": "code",
   "execution_count": 39,
   "metadata": {},
   "outputs": [],
   "source": [
    "# Function to display the top words for each topic\n",
    "def get_top_words(model, feature_names, n_top_words):\n",
    "    \"\"\"\n",
    "    Retrieve the top words for each topic from the NMF model.\n",
    "\n",
    "    Args:\n",
    "        model: Trained NMF model\n",
    "        feature_names: List of feature names from the TF-IDF vectorizer\n",
    "        n_top_words: Number of top words to retrieve per topic\n",
    "\n",
    "    Returns:\n",
    "        dict: A dictionary with topic numbers as keys and top words as values\n",
    "    \"\"\"\n",
    "    topics = {}\n",
    "    for topic_idx, topic in enumerate(model.components_):\n",
    "        top_words = [feature_names[i] for i in topic.argsort()[:-n_top_words - 1:-1]]\n",
    "        topics[topic_idx] = top_words\n",
    "    return topics"
   ]
  },
  {
   "cell_type": "code",
   "execution_count": 40,
   "metadata": {},
   "outputs": [
    {
     "name": "stdout",
     "output_type": "stream",
     "text": [
      "+---------+-------------------------------------------------------------------------------------------------------------------------------------------------------------------------------------------------------------------------------------------------+\n",
      "|   Topic | Top Words                                                                                                                                                                                                                                       |\n",
      "+=========+=================================================================================================================================================================================================================================================+\n",
      "|       0 | account, check, bank, chase, money, deposit, fund, close, tell, branch, open, say, chase bank, day, transaction, checking, transfer, claim, close account, number                                                                               |\n",
      "+---------+-------------------------------------------------------------------------------------------------------------------------------------------------------------------------------------------------------------------------------------------------+\n",
      "|       1 | card, charge, credit card, credit, chase, dispute, purchase, use, receive, merchant, chase credit, transaction, refund, service, chase credit card, company, fraud, tell, say, pay                                                              |\n",
      "+---------+-------------------------------------------------------------------------------------------------------------------------------------------------------------------------------------------------------------------------------------------------+\n",
      "|       2 | loan, mortgage, chase, home, modification, property, letter, send, document, year, foreclosure, request, time, sale, receive, house, rate, tell, pay, loan modification                                                                         |\n",
      "+---------+-------------------------------------------------------------------------------------------------------------------------------------------------------------------------------------------------------------------------------------------------+\n",
      "|       3 | report, credit, inquiry, credit report, hard, remove, hard inquiry, inquiry credit, account, inquiry credit report, bureau, debt, credit bureau, reporting, score, card, information, hard inquiry credit, hard inquiry credit report, identity |\n",
      "+---------+-------------------------------------------------------------------------------------------------------------------------------------------------------------------------------------------------------------------------------------------------+\n",
      "|       4 | payment, pay, late, make, fee, balance, make payment, month, late payment, late fee, statement, payment make, account, monthly, chase, credit, payment chase, time, day, auto                                                                   |\n",
      "+---------+-------------------------------------------------------------------------------------------------------------------------------------------------------------------------------------------------------------------------------------------------+\n"
     ]
    }
   ],
   "source": [
    "# Get feature names and top words per topic\n",
    "feature_names = tfidf_vectorizer.get_feature_names_out()\n",
    "top_words_per_topic = get_top_words(nmf_model, feature_names, 20)\n",
    "\n",
    "# Prepare data for tabulation\n",
    "table_top_word = [(topic, ', '.join(words)) for topic, words in top_words_per_topic.items()]\n",
    "\n",
    "# Print the top words for each topic using tabulate\n",
    "print(tabulate(table_top_word, headers=['Topic', 'Top Words'], tablefmt='grid'))"
   ]
  },
  {
   "cell_type": "markdown",
   "metadata": {},
   "source": [
    "**Pre-defined topic labels**\n",
    "\n",
    "- Bank account services,\n",
    "- Credit card / Prepaid card,\n",
    "- Mortgages / Loans,\n",
    "- Theft / Dispute reporting,\n",
    "- Others"
   ]
  },
  {
   "cell_type": "markdown",
   "metadata": {},
   "source": [
    "Labelling the topic based on top keywords"
   ]
  },
  {
   "cell_type": "code",
   "execution_count": 41,
   "metadata": {},
   "outputs": [],
   "source": [
    "import pickle\n",
    "\n",
    "topic_labels_map = {\n",
    "    0: \"Bank account services\",\n",
    "    1: \"Credit card / Prepaid card\",\n",
    "    2: \"Mortgages / Loans\",\n",
    "    3: \"Theft / Dispute reporting\",\n",
    "    4: \"Others\"\n",
    "}\n",
    "\n",
    "target_names = list(topic_labels_map.values())\n",
    "\n",
    "data['topic_label'] = data['topic'].map(topic_labels_map)\n",
    "\n",
    "with open('topic_labels_map.pkl', 'wb') as map_file:\n",
    "    pickle.dump(topic_labels_map, map_file)"
   ]
  },
  {
   "cell_type": "markdown",
   "metadata": {},
   "source": [
    "Summary of topic index, label and count with top keywords"
   ]
  },
  {
   "cell_type": "code",
   "execution_count": 42,
   "metadata": {},
   "outputs": [
    {
     "name": "stdout",
     "output_type": "stream",
     "text": [
      "+---------+---------+----------------------------+-------------------------------------------------------------------------------------------------------------------------------------------------------------------------------------------------------------------------------------------------+\n",
      "|   Topic |   Count | Label                      | Top Words                                                                                                                                                                                                                                       |\n",
      "+=========+=========+============================+=================================================================================================================================================================================================================================================+\n",
      "|       0 |    5707 | Bank account services      | account, check, bank, chase, money, deposit, fund, close, tell, branch, open, say, chase bank, day, transaction, checking, transfer, claim, close account, number                                                                               |\n",
      "+---------+---------+----------------------------+-------------------------------------------------------------------------------------------------------------------------------------------------------------------------------------------------------------------------------------------------+\n",
      "|       1 |    6134 | Credit card / Prepaid card | card, charge, credit card, credit, chase, dispute, purchase, use, receive, merchant, chase credit, transaction, refund, service, chase credit card, company, fraud, tell, say, pay                                                              |\n",
      "+---------+---------+----------------------------+-------------------------------------------------------------------------------------------------------------------------------------------------------------------------------------------------------------------------------------------------+\n",
      "|       2 |    4132 | Mortgages / Loans          | loan, mortgage, chase, home, modification, property, letter, send, document, year, foreclosure, request, time, sale, receive, house, rate, tell, pay, loan modification                                                                         |\n",
      "+---------+---------+----------------------------+-------------------------------------------------------------------------------------------------------------------------------------------------------------------------------------------------------------------------------------------------+\n",
      "|       3 |    2535 | Theft / Dispute reporting  | report, credit, inquiry, credit report, hard, remove, hard inquiry, inquiry credit, account, inquiry credit report, bureau, debt, credit bureau, reporting, score, card, information, hard inquiry credit, hard inquiry credit report, identity |\n",
      "+---------+---------+----------------------------+-------------------------------------------------------------------------------------------------------------------------------------------------------------------------------------------------------------------------------------------------+\n",
      "|       4 |    2564 | Others                     | payment, pay, late, make, fee, balance, make payment, month, late payment, late fee, statement, payment make, account, monthly, chase, credit, payment chase, time, day, auto                                                                   |\n",
      "+---------+---------+----------------------------+-------------------------------------------------------------------------------------------------------------------------------------------------------------------------------------------------------------------------------------------------+\n"
     ]
    }
   ],
   "source": [
    "topic_counts = data['topic'].value_counts().sort_index()\n",
    "table_data = list(zip(\n",
    "    topic_counts.index,\n",
    "    topic_counts.values,\n",
    "    [topic_labels_map.get(topic, \"Unknown\") for topic in topic_counts.index],\n",
    "    [label for _ , label in table_top_word]\n",
    "))\n",
    "print(tabulate(table_data, headers=['Topic', 'Count', 'Label', 'Top Words'], tablefmt='grid', showindex=None))"
   ]
  },
  {
   "cell_type": "markdown",
   "metadata": {},
   "source": [
    "### Review topic model against product mapping from original data"
   ]
  },
  {
   "cell_type": "code",
   "execution_count": 43,
   "metadata": {},
   "outputs": [
    {
     "data": {
      "text/plain": [
       "product\n",
       "Credit card or prepaid card                                                     5039\n",
       "Checking or savings account                                                     4290\n",
       "Mortgage                                                                        3246\n",
       "Credit reporting, credit repair services, or other personal consumer reports    2087\n",
       "Credit card                                                                     2070\n",
       "Bank account or service                                                         1650\n",
       "Debt collection                                                                  955\n",
       "Money transfer, virtual currency, or money service                               797\n",
       "Vehicle loan or lease                                                            403\n",
       "Consumer Loan                                                                    240\n",
       "Student loan                                                                     140\n",
       "Money transfers                                                                   56\n",
       "Payday loan, title loan, or personal loan                                         44\n",
       "Credit reporting                                                                  38\n",
       "Other financial service                                                            9\n",
       "Prepaid card                                                                       7\n",
       "Payday loan                                                                        1\n",
       "Name: count, dtype: int64"
      ]
     },
     "execution_count": 43,
     "metadata": {},
     "output_type": "execute_result"
    }
   ],
   "source": [
    "data['product'].value_counts()"
   ]
  },
  {
   "cell_type": "code",
   "execution_count": 44,
   "metadata": {},
   "outputs": [
    {
     "name": "stdout",
     "output_type": "stream",
     "text": [
      "| topic_label                |   Bank account services |   Credit card / Prepaid card |   Mortgages / Loans |   Others |   Theft / Dispute reporting |\n",
      "|----------------------------|-------------------------|------------------------------|---------------------|----------|-----------------------------|\n",
      "| Bank account services      |                    4381 |                          403 |                  81 |      666 |                         176 |\n",
      "| Credit card / Prepaid card |                     918 |                         4792 |                  15 |       60 |                         349 |\n",
      "| Mortgages / Loans          |                     206 |                          304 |                3021 |       67 |                         534 |\n",
      "| Others                     |                     333 |                          973 |                 772 |       67 |                         419 |\n",
      "| Theft / Dispute reporting  |                     102 |                          644 |                 185 |        2 |                        1602 |\n"
     ]
    }
   ],
   "source": [
    "# Define a mapping to group products into broader categories\n",
    "product_grouping = {\n",
    "    'Credit card or prepaid card'               : 'Credit card / Prepaid card',\n",
    "    'Credit card'                               : 'Credit card / Prepaid card',\n",
    "    'Prepaid card'                              : 'Credit card / Prepaid card',    \n",
    "    'Checking or savings account'               : 'Bank account services',\n",
    "    'Bank account or service'                   : 'Bank account services',\n",
    "    'Mortgage'                                  : 'Mortgages / Loans',\n",
    "    'Vehicle loan or lease'                     : 'Mortgages / Loans',\n",
    "    'Consumer Loan'                             : 'Mortgages / Loans',\n",
    "    'Student loan'                              : 'Mortgages / Loans',\n",
    "    'Payday loan, title loan, or personal loan' : 'Mortgages / Loans',\n",
    "    'Payday loan'                               : 'Mortgages / Loans',\n",
    "    'Credit reporting, credit repair services, or other personal consumer reports'\n",
    "                                                : 'Theft / Dispute reporting',\n",
    "    'Credit reporting'                          : 'Theft / Dispute reporting',\n",
    "    'Debt collection'                           : 'Theft / Dispute reporting',\n",
    "    'Money transfer, virtual currency, or money service'\n",
    "                                                : 'Others',\n",
    "    'Money transfers'                           : 'Others',\n",
    "    'Other financial service'                   : 'Others'\n",
    "}\n",
    "\n",
    "# Create a temporary grouped column for analysis without modifying the original dataframe\n",
    "data_temp = data.copy()\n",
    "data_temp['product_grouped'] = data_temp['product'].map(product_grouping).fillna('Others')\n",
    "\n",
    "# Generate the cross-tabulation using the temporary grouped column\n",
    "topic_product_crosstab = pd.crosstab(data_temp['topic_label'], data_temp['product_grouped'])\n",
    "\n",
    "# Print the cross-tabulation with headers in GitHub table format\n",
    "print(tabulate(\n",
    "    tabular_data=topic_product_crosstab, \n",
    "    headers='keys', \n",
    "    tablefmt='github'\n",
    "))\n"
   ]
  },
  {
   "cell_type": "code",
   "execution_count": 45,
   "metadata": {},
   "outputs": [
    {
     "data": {
      "text/plain": [
       "(21072, 5000)"
      ]
     },
     "execution_count": 45,
     "metadata": {},
     "output_type": "execute_result"
    }
   ],
   "source": [
    "X_tfidf.shape"
   ]
  },
  {
   "cell_type": "markdown",
   "metadata": {},
   "source": [
    "## 7. Model building"
   ]
  },
  {
   "cell_type": "code",
   "execution_count": 46,
   "metadata": {},
   "outputs": [
    {
     "name": "stdout",
     "output_type": "stream",
     "text": [
      "Training set size: (16857, 5000), Testing set size: (4215, 5000)\n"
     ]
    }
   ],
   "source": [
    "from sklearn.model_selection import train_test_split\n",
    "\n",
    "# Define features (TF-IDF transformed complaint text) and target (assigned topics)\n",
    "X = X_tfidf         # tfidf_matrix contains the transformed complaint texts\n",
    "y = data['topic']   # Target labels (topics)\n",
    "\n",
    "# Split the data into 80% training and 20% testing\n",
    "X_train, X_test, y_train, y_test = train_test_split(X, y, test_size=0.20, random_state=42, stratify=y)\n",
    "\n",
    "# Print the shape of the train and test splits\n",
    "print(f\"Training set size: {X_train.shape}, Testing set size: {X_test.shape}\")"
   ]
  },
  {
   "cell_type": "code",
   "execution_count": 47,
   "metadata": {},
   "outputs": [],
   "source": [
    "from sklearn.metrics import classification_report, confusion_matrix, roc_auc_score\n",
    "\n",
    "def evaluate_model(model_name, y_true, y_pred, y_pred_proba, target_names):\n",
    "    \"\"\"\n",
    "    Evaluate the performance of a multi-class classification model.\n",
    "    \n",
    "    Parameters:\n",
    "    - model_name (str): Name of the model being evaluated.\n",
    "    - y_true (array-like): True labels.\n",
    "    - y_pred (array-like): Predicted class labels.\n",
    "    - y_pred_proba (array-like): Predicted probabilities for each class.\n",
    "    - target_names (list): List of target class names.\n",
    "    \n",
    "    Returns:\n",
    "    None (prints evaluation metrics)\n",
    "    \"\"\"\n",
    "    print(f\"{model_name} Performance\")\n",
    "    print(\"Classification Report:\\n\")\n",
    "    print(classification_report(y_true, y_pred, target_names=target_names))\n",
    "    \n",
    "    # Generate confusion matrix with side labels\n",
    "    conf_matrix = confusion_matrix(y_true, y_pred)\n",
    "    conf_matrix_table = tabulate(\n",
    "        tabular_data=conf_matrix, \n",
    "        headers=target_names, \n",
    "        showindex=target_names, \n",
    "        tablefmt=\"github\"\n",
    "    )\n",
    "\n",
    "    print(\"Confusion Matrix:\\n\")\n",
    "    print(conf_matrix_table)\n",
    "\n",
    "    print()\n",
    "    # Calculate ROC AUC score for multi-class classification using One-vs-Rest (OvR)\n",
    "    try:\n",
    "        roc_score = roc_auc_score(y_true, y_pred_proba, multi_class='ovr', average='macro')\n",
    "        print(f\"ROC AUC Score (OvR Macro-Averaged): {roc_score:.4f}\")\n",
    "    except ValueError as e:\n",
    "        print(f\"Could not calculate ROC AUC Score: {e}\")"
   ]
  },
  {
   "cell_type": "code",
   "execution_count": 48,
   "metadata": {},
   "outputs": [],
   "source": [
    "from sklearn.linear_model import LogisticRegression\n",
    "from sklearn.tree import DecisionTreeClassifier\n",
    "from sklearn.ensemble import RandomForestClassifier\n",
    "from sklearn.naive_bayes import MultinomialNB"
   ]
  },
  {
   "cell_type": "markdown",
   "metadata": {},
   "source": [
    "#### Logistic Regression Model\n",
    "\n"
   ]
  },
  {
   "cell_type": "code",
   "execution_count": 49,
   "metadata": {},
   "outputs": [
    {
     "name": "stdout",
     "output_type": "stream",
     "text": [
      "**Logistic Regression** Performance\n",
      "Classification Report:\n",
      "\n",
      "                            precision    recall  f1-score   support\n",
      "\n",
      "     Bank account services       0.96      0.98      0.97      1142\n",
      "Credit card / Prepaid card       0.95      0.99      0.97      1227\n",
      "         Mortgages / Loans       0.97      0.95      0.96       826\n",
      " Theft / Dispute reporting       0.98      0.93      0.95       507\n",
      "                    Others       0.99      0.91      0.95       513\n",
      "\n",
      "                  accuracy                           0.96      4215\n",
      "                 macro avg       0.97      0.95      0.96      4215\n",
      "              weighted avg       0.96      0.96      0.96      4215\n",
      "\n",
      "Confusion Matrix:\n",
      "\n",
      "|                            |   Bank account services |   Credit card / Prepaid card |   Mortgages / Loans |   Theft / Dispute reporting |   Others |\n",
      "|----------------------------|-------------------------|------------------------------|---------------------|-----------------------------|----------|\n",
      "| Bank account services      |                    1117 |                           13 |                  10 |                           0 |        2 |\n",
      "| Credit card / Prepaid card |                      10 |                         1211 |                   2 |                           3 |        1 |\n",
      "| Mortgages / Loans          |                      14 |                           18 |                 788 |                           5 |        1 |\n",
      "| Theft / Dispute reporting  |                       6 |                           24 |                   7 |                         469 |        1 |\n",
      "| Others                     |                      21 |                           12 |                   9 |                           2 |      469 |\n",
      "\n",
      "ROC AUC Score (OvR Macro-Averaged): 0.9987\n"
     ]
    }
   ],
   "source": [
    "# Train Logistic Regression model\n",
    "log_reg_model = LogisticRegression(max_iter=1000, random_state=42)\n",
    "log_reg_model.fit(X_train, y_train)\n",
    "\n",
    "# Predict on test set\n",
    "y_pred_log_reg = log_reg_model.predict(X_test)\n",
    "y_pred_log_reg_pob = log_reg_model.predict_proba(X_test)\n",
    "\n",
    "# Evaluate model\n",
    "evaluate_model(\n",
    "    model_name=\"**Logistic Regression**\",\n",
    "    y_true=y_test,\n",
    "    y_pred=y_pred_log_reg,\n",
    "    y_pred_proba=y_pred_log_reg_pob,\n",
    "    target_names=target_names\n",
    ")"
   ]
  },
  {
   "cell_type": "markdown",
   "metadata": {},
   "source": [
    "#### Decision Tree Model"
   ]
  },
  {
   "cell_type": "code",
   "execution_count": 50,
   "metadata": {},
   "outputs": [
    {
     "name": "stdout",
     "output_type": "stream",
     "text": [
      "**Decision Tree** Performance\n",
      "Classification Report:\n",
      "\n",
      "                            precision    recall  f1-score   support\n",
      "\n",
      "     Bank account services       0.84      0.83      0.83      1142\n",
      "Credit card / Prepaid card       0.84      0.85      0.84      1227\n",
      "         Mortgages / Loans       0.82      0.80      0.81       826\n",
      " Theft / Dispute reporting       0.80      0.83      0.82       507\n",
      "                    Others       0.76      0.76      0.76       513\n",
      "\n",
      "                  accuracy                           0.82      4215\n",
      "                 macro avg       0.81      0.81      0.81      4215\n",
      "              weighted avg       0.82      0.82      0.82      4215\n",
      "\n",
      "Confusion Matrix:\n",
      "\n",
      "|                            |   Bank account services |   Credit card / Prepaid card |   Mortgages / Loans |   Theft / Dispute reporting |   Others |\n",
      "|----------------------------|-------------------------|------------------------------|---------------------|-----------------------------|----------|\n",
      "| Bank account services      |                     949 |                           86 |                  54 |                          18 |       35 |\n",
      "| Credit card / Prepaid card |                      68 |                         1042 |                  37 |                          40 |       40 |\n",
      "| Mortgages / Loans          |                      56 |                           42 |                 659 |                          31 |       38 |\n",
      "| Theft / Dispute reporting  |                      25 |                           35 |                  20 |                         419 |        8 |\n",
      "| Others                     |                      34 |                           40 |                  37 |                          13 |      389 |\n",
      "\n",
      "ROC AUC Score (OvR Macro-Averaged): 0.8831\n"
     ]
    }
   ],
   "source": [
    "# Train Decision Tree model\n",
    "dt_model = DecisionTreeClassifier(\n",
    "    criterion='entropy',\n",
    "    random_state=42\n",
    ")\n",
    "dt_model.fit(X_train, y_train)\n",
    "\n",
    "# Predict on test set\n",
    "y_pred_dt = dt_model.predict(X_test)\n",
    "y_pred_dt_prob = dt_model.predict_proba(X_test)\n",
    "\n",
    "\n",
    "# Evaluate model\n",
    "evaluate_model(\n",
    "    model_name=\"**Decision Tree**\",\n",
    "    y_true=y_test,\n",
    "    y_pred=y_pred_dt,\n",
    "    y_pred_proba=y_pred_dt_prob,\n",
    "    target_names=target_names\n",
    ")"
   ]
  },
  {
   "cell_type": "markdown",
   "metadata": {},
   "source": [
    "#### Random Forest Model"
   ]
  },
  {
   "cell_type": "code",
   "execution_count": 51,
   "metadata": {},
   "outputs": [
    {
     "name": "stdout",
     "output_type": "stream",
     "text": [
      "**Random Forest** Performance\n",
      "Classification Report:\n",
      "\n",
      "                            precision    recall  f1-score   support\n",
      "\n",
      "     Bank account services       0.86      0.94      0.90      1142\n",
      "Credit card / Prepaid card       0.85      0.94      0.89      1227\n",
      "         Mortgages / Loans       0.92      0.87      0.89       826\n",
      " Theft / Dispute reporting       0.95      0.86      0.90       507\n",
      "                    Others       0.94      0.68      0.79       513\n",
      "\n",
      "                  accuracy                           0.88      4215\n",
      "                 macro avg       0.90      0.86      0.88      4215\n",
      "              weighted avg       0.89      0.88      0.88      4215\n",
      "\n",
      "Confusion Matrix:\n",
      "\n",
      "|                            |   Bank account services |   Credit card / Prepaid card |   Mortgages / Loans |   Theft / Dispute reporting |   Others |\n",
      "|----------------------------|-------------------------|------------------------------|---------------------|-----------------------------|----------|\n",
      "| Bank account services      |                    1073 |                           54 |                  12 |                           2 |        1 |\n",
      "| Credit card / Prepaid card |                      57 |                         1153 |                   3 |                          10 |        4 |\n",
      "| Mortgages / Loans          |                      45 |                           45 |                 720 |                          10 |        6 |\n",
      "| Theft / Dispute reporting  |                       9 |                           46 |                   5 |                         436 |       11 |\n",
      "| Others                     |                      57 |                           60 |                  45 |                           3 |      348 |\n",
      "\n",
      "ROC AUC Score (OvR Macro-Averaged): 0.9899\n"
     ]
    }
   ],
   "source": [
    "# Train Random Forest model\n",
    "rf_model = RandomForestClassifier(\n",
    "    n_estimators=200, \n",
    "    criterion='entropy',\n",
    "    random_state=42\n",
    ")\n",
    "rf_model.fit(X_train, y_train)\n",
    "\n",
    "# Predict on test set\n",
    "y_pred_rf = rf_model.predict(X_test)\n",
    "y_pred_rf_prob = rf_model.predict_proba(X_test)\n",
    "\n",
    "# Evaluate model\n",
    "evaluate_model(\n",
    "    model_name=\"**Random Forest**\",\n",
    "    y_true=y_test,\n",
    "    y_pred=y_pred_rf,\n",
    "    y_pred_proba=y_pred_rf_prob,\n",
    "    target_names=target_names\n",
    ")"
   ]
  },
  {
   "cell_type": "markdown",
   "metadata": {},
   "source": [
    "#### Naive Bayes Model"
   ]
  },
  {
   "cell_type": "code",
   "execution_count": 52,
   "metadata": {},
   "outputs": [
    {
     "name": "stdout",
     "output_type": "stream",
     "text": [
      "**Naive Bayes** Performance\n",
      "Classification Report:\n",
      "\n",
      "                            precision    recall  f1-score   support\n",
      "\n",
      "     Bank account services       0.86      0.93      0.89      1142\n",
      "Credit card / Prepaid card       0.86      0.91      0.88      1227\n",
      "         Mortgages / Loans       0.89      0.88      0.89       826\n",
      " Theft / Dispute reporting       0.91      0.82      0.86       507\n",
      "                    Others       0.86      0.67      0.76       513\n",
      "\n",
      "                  accuracy                           0.87      4215\n",
      "                 macro avg       0.88      0.84      0.86      4215\n",
      "              weighted avg       0.87      0.87      0.87      4215\n",
      "\n",
      "Confusion Matrix:\n",
      "\n",
      "|                            |   Bank account services |   Credit card / Prepaid card |   Mortgages / Loans |   Theft / Dispute reporting |   Others |\n",
      "|----------------------------|-------------------------|------------------------------|---------------------|-----------------------------|----------|\n",
      "| Bank account services      |                    1062 |                           57 |                  11 |                           4 |        8 |\n",
      "| Credit card / Prepaid card |                      69 |                         1117 |                   8 |                          16 |       17 |\n",
      "| Mortgages / Loans          |                      32 |                           42 |                 729 |                          14 |        9 |\n",
      "| Theft / Dispute reporting  |                      16 |                           44 |                  11 |                         416 |       20 |\n",
      "| Others                     |                      56 |                           42 |                  61 |                           9 |      345 |\n",
      "\n",
      "ROC AUC Score (OvR Macro-Averaged): 0.9830\n"
     ]
    }
   ],
   "source": [
    "# Train Naive Bayes model\n",
    "nb_model = MultinomialNB()\n",
    "nb_model.fit(X_train, y_train)\n",
    "\n",
    "# Predict on test set\n",
    "y_pred_nb = nb_model.predict(X_test)\n",
    "y_pred_nb_prob = nb_model.predict_proba(X_test)\n",
    "\n",
    "# Evaluate model\n",
    "evaluate_model(\n",
    "    model_name=\"**Naive Bayes**\",\n",
    "    y_true=y_test,\n",
    "    y_pred=y_pred_nb,\n",
    "    y_pred_proba=y_pred_nb_prob,\n",
    "    target_names=target_names\n",
    ")"
   ]
  },
  {
   "cell_type": "markdown",
   "metadata": {},
   "source": [
    "## 8. Best model"
   ]
  },
  {
   "cell_type": "code",
   "execution_count": 53,
   "metadata": {},
   "outputs": [],
   "source": [
    "import numpy as np\n",
    "import pandas as pd\n",
    "from sklearn.metrics import accuracy_score, precision_score, recall_score, f1_score, roc_auc_score\n",
    "from tabulate import tabulate\n",
    "\n",
    "def compare_models(y_true, model_predictions, sort_by=\"F1-score\"):\n",
    "    \"\"\"\n",
    "    Compare multiple classification models based on evaluation metrics.\n",
    "\n",
    "    Parameters:\n",
    "    - y_true (array-like): True labels.\n",
    "    - model_predictions (dict): Dictionary with model names as keys and \n",
    "                                tuples of (predicted labels, predicted probabilities).\n",
    "    - sort_by (str): Metric to sort the results by ('F1-score', 'Accuracy', 'Recall', \n",
    "                        'Precision', 'ROC AUC', 'Confidence').\n",
    "\n",
    "    Returns:\n",
    "    - None (prints comparative table using tabulate)\n",
    "    \"\"\"\n",
    "\n",
    "    # Define metric calculation functions\n",
    "    metric_functions = {\n",
    "        \"Accuracy\": lambda yt, yp: accuracy_score(yt, yp),\n",
    "        \"Precision\": lambda yt, yp: precision_score(yt, yp, average='weighted'),\n",
    "        \"Recall\": lambda yt, yp: recall_score(yt, yp, average='weighted'),\n",
    "        \"F1-score\": lambda yt, yp: f1_score(yt, yp, average='weighted'),\n",
    "        \"ROC AUC\": lambda yt, yp_prob: roc_auc_score(yt, yp_prob, multi_class='ovr', average='macro'),\n",
    "        \"Confidence\": lambda yt, yp_prob: np.mean(np.max(yp_prob, axis=1))\n",
    "    }\n",
    "\n",
    "    # Collect model results\n",
    "    results = []\n",
    "    for model_name, (y_pred, y_pred_proba) in model_predictions.items():\n",
    "        model_result = {\"Model\": model_name}\n",
    "        for metric_name, func in metric_functions.items():\n",
    "            if metric_name in [\"ROC AUC\", \"Confidence\"]:\n",
    "                score = func(y_true, y_pred_proba)\n",
    "            else:\n",
    "                score = func(y_true, y_pred)\n",
    "            model_result[metric_name] = round(score, 4)\n",
    "        results.append(model_result)\n",
    "\n",
    "    # Convert to DataFrame for sorting\n",
    "    results_df = pd.DataFrame(results)\n",
    "\n",
    "    # Validate sorting metric\n",
    "    if sort_by not in metric_functions.keys():\n",
    "        raise ValueError(f\"Invalid sort_by value. Choose from: {list(metric_functions.keys())}\")\n",
    "\n",
    "    # Add * to the column being sorted\n",
    "    results_df.rename(columns={sort_by: f\"{sort_by}*\"}, inplace=True)\n",
    "\n",
    "    # Sort by the chosen metric in descending order\n",
    "    results_df = results_df.sort_values(by=f\"{sort_by}*\", ascending=False)\n",
    "\n",
    "    # Print the results using tabulate\n",
    "    print(tabulate(\n",
    "        tabular_data=results_df, \n",
    "        headers=\"keys\", \n",
    "        tablefmt=\"github\", \n",
    "        showindex=False,\n",
    "        floatfmt=\".4f\"\n",
    "    ))\n",
    "\n",
    "    # Print footer indicating the sorting criterion\n",
    "    print(f\"\\n*sorted by {sort_by}\")"
   ]
  },
  {
   "cell_type": "code",
   "execution_count": 54,
   "metadata": {},
   "outputs": [],
   "source": [
    "model_predictions = {\n",
    "    \"Random Forest\": (y_pred_rf, y_pred_rf_prob),\n",
    "    \"Decision Tree\": (y_pred_dt, y_pred_dt_prob),\n",
    "    \"Logistic Regression\": (y_pred_log_reg, y_pred_log_reg_pob),\n",
    "    \"Naive Bayes\" : (y_pred_nb, y_pred_nb_prob)\n",
    "}"
   ]
  },
  {
   "cell_type": "code",
   "execution_count": 55,
   "metadata": {},
   "outputs": [
    {
     "name": "stdout",
     "output_type": "stream",
     "text": [
      "| Model               |   Accuracy |   Precision |   Recall |   F1-score* |   ROC AUC |   Confidence |\n",
      "|---------------------|------------|-------------|----------|-------------|-----------|--------------|\n",
      "| Logistic Regression |     0.9618 |      0.9624 |   0.9618 |      0.9617 |    0.9987 |       0.8623 |\n",
      "| Random Forest       |     0.8849 |      0.8894 |   0.8849 |      0.8831 |    0.9899 |       0.6782 |\n",
      "| Naive Bayes         |     0.8705 |      0.8712 |   0.8705 |      0.8685 |    0.9830 |       0.7967 |\n",
      "| Decision Tree       |     0.8204 |      0.8204 |   0.8204 |      0.8203 |    0.8831 |       1.0000 |\n",
      "\n",
      "*sorted by F1-score\n"
     ]
    }
   ],
   "source": [
    "compare_models(\n",
    "    y_true=y_test,\n",
    "    model_predictions=model_predictions,\n",
    "    sort_by=\"F1-score\"\n",
    ")"
   ]
  },
  {
   "cell_type": "code",
   "execution_count": 56,
   "metadata": {},
   "outputs": [],
   "source": [
    "import pickle\n",
    "\n",
    "with open('log_reg_model.pkl', 'wb') as model_file:\n",
    "    pickle.dump(log_reg_model, model_file)"
   ]
  },
  {
   "cell_type": "markdown",
   "metadata": {},
   "source": [
    "#### Summary of performance:\n",
    "\n",
    "1. **Logistic Regression:**  \n",
    "   - This model demonstrates the best overall performance with the highest accuracy, precision, recall, and F1-score, indicating it balances false positives and false negatives well.  \n",
    "   - The high ROC AUC suggests excellent discriminative ability, and the confidence level shows that the model is relatively reliable.\n",
    "\n",
    "2. **Random Forest:**  \n",
    "   - While it performs well in terms of accuracy and ROC AUC, its precision and recall are lower compared to logistic regression, indicating it might struggle with classifying some instances correctly.  \n",
    "   - The confidence level is lower, suggesting more uncertainty in its predictions.\n",
    "\n",
    "3. **Naive Bayes:**  \n",
    "   - This model performs reasonably well but shows a slight trade-off in precision and recall, indicating it might make more false positive errors.  \n",
    "   - The lower confidence compared to logistic regression suggests it may not generalize as effectively.\n",
    "\n",
    "4. **Decision Tree:**  \n",
    "   - It has the lowest performance across all metrics, highlighting a tendency to overfit the data, leading to lower generalization capability.  \n",
    "   - The highest confidence indicates it makes firm predictions, but they might not always be accurate, making it less reliable overall."
   ]
  },
  {
   "cell_type": "markdown",
   "metadata": {},
   "source": [
    "## 9. Model Inference "
   ]
  },
  {
   "cell_type": "code",
   "execution_count": 57,
   "metadata": {},
   "outputs": [],
   "source": [
    "import pickle\n",
    "\n",
    "# Load the feature matrix\n",
    "with open('tfidf_features.pkl', 'rb') as feat_file:\n",
    "    X_tfidf = pickle.load(feat_file)\n",
    "\n",
    "# Load the logistic model\n",
    "with open('log_reg_model.pkl', 'rb') as model_file:\n",
    "    log_reg_model = pickle.load(model_file)\n",
    "\n",
    "# Load the mapping\n",
    "with open('topic_labels_map.pkl', 'rb') as map_file:\n",
    "    topic_labels_map = pickle.load(map_file)"
   ]
  },
  {
   "cell_type": "code",
   "execution_count": 58,
   "metadata": {},
   "outputs": [],
   "source": [
    "custom_complaints = [\n",
    "    {\"complaint\": \"I was charged an overdraft fee even though I had enough money in my account.\"},\n",
    "    {\"complaint\": \"My credit card application got denied without any explanation!\"},\n",
    "    {\"complaint\": \"I noticed an unauthorized transaction on my account that I did not make.\"},\n",
    "    {\"complaint\": \"The bank closed my account without informing me and now I can't access my funds. This has been a nightmare for me as I have automatic payments scheduled and no access to my savings. The customer service team has not been helpful in resolving my issue.\"},\n",
    "    {\"complaint\": \"I applied for a loan and it's been weeks with no response from the bank.\"},\n",
    "    {\"complaint\": \"My mortgage interest rate suddenly increased, and I was not notified. I found out when my monthly payment shot up significantly, and it's putting me in a financial crisis. I have tried reaching out to my loan officer, but there has been no response from their end.\"},\n",
    "    {\"complaint\": \"I set up autopay for my credit card, but the payment didn't go through and I was charged a late fee.\"},\n",
    "    {\"complaint\": \"I'm being harassed by debt collectors for a debt I already paid off.\"},\n",
    "    {\"complaint\": \"The customer service representatives are always rude and never solve my issues.\"},\n",
    "    {\"complaint\": \"I reported identity theft, but the bank hasn't taken any action yet. I have sent multiple emails, and every time I call, they say my case is under review. Meanwhile, I continue to receive unauthorized transactions on my account.\"},\n",
    "    {\"complaint\": \"My credit report has incorrect information, and I can't get it fixed.\"},\n",
    "    {\"complaint\": \"I tried to transfer money to another account, but the transaction keeps failing.\"},\n",
    "    {\"complaint\": \"The mobile banking app keeps crashing, and I can't check my balance.\"},\n",
    "    {\"complaint\": \"I made a payment, but it hasn't reflected on my credit card statement yet.\"},\n",
    "    {\"complaint\": \"My credit limit was reduced without any reason, and it affected my credit score.\"},\n",
    "    {\"complaint\": \"I requested a new debit card weeks ago, and I still haven't received it.\"},\n",
    "    {\"complaint\": \"The loan officer promised a lower interest rate, but my final loan terms were different.\"},\n",
    "    {\"complaint\": \"I was charged a foreign transaction fee even though I was told my card had no such fees.\"},\n",
    "    {\"complaint\": \"I disputed a charge on my credit card, but they ruled in the merchant's favor without reviewing my case. I provided all the necessary documents and proofs to show that I did not authorize the charge, but I am still being held responsible for the amount.\"},\n",
    "    {\"complaint\": \"I paid off my student loan, but it's still showing as unpaid on my credit report. This has caused a dip in my credit score, and now I am facing issues with getting approval for a new mortgage. Despite multiple attempts to rectify this, it remains unresolved.\"}\n",
    "]"
   ]
  },
  {
   "cell_type": "code",
   "execution_count": 59,
   "metadata": {},
   "outputs": [],
   "source": [
    "def preprocess_custom_complaints(complaints):\n",
    "    complaints_cleaned = complaints.apply(clean_text)                   # Step 1: Cleaning\n",
    "    complaints_filtered = remove_unwanted_pos_tags(complaints_cleaned)  # Step 2: POS Tag Removal\n",
    "    complaints_final = complaints_filtered.apply(lemmatize_text)        # Step 3: Lemmatization\n",
    "    return complaints_final"
   ]
  },
  {
   "cell_type": "code",
   "execution_count": 60,
   "metadata": {},
   "outputs": [
    {
     "data": {
      "text/html": [
       "<div>\n",
       "<style scoped>\n",
       "    .dataframe tbody tr th:only-of-type {\n",
       "        vertical-align: middle;\n",
       "    }\n",
       "\n",
       "    .dataframe tbody tr th {\n",
       "        vertical-align: top;\n",
       "    }\n",
       "\n",
       "    .dataframe thead th {\n",
       "        text-align: right;\n",
       "    }\n",
       "</style>\n",
       "<table border=\"1\" class=\"dataframe\">\n",
       "  <thead>\n",
       "    <tr style=\"text-align: right;\">\n",
       "      <th></th>\n",
       "      <th>complaint</th>\n",
       "    </tr>\n",
       "  </thead>\n",
       "  <tbody>\n",
       "    <tr>\n",
       "      <th>0</th>\n",
       "      <td>I was charged an overdraft fee even though I h...</td>\n",
       "    </tr>\n",
       "    <tr>\n",
       "      <th>1</th>\n",
       "      <td>My credit card application got denied without ...</td>\n",
       "    </tr>\n",
       "    <tr>\n",
       "      <th>2</th>\n",
       "      <td>I noticed an unauthorized transaction on my ac...</td>\n",
       "    </tr>\n",
       "    <tr>\n",
       "      <th>3</th>\n",
       "      <td>The bank closed my account without informing m...</td>\n",
       "    </tr>\n",
       "    <tr>\n",
       "      <th>4</th>\n",
       "      <td>I applied for a loan and it's been weeks with ...</td>\n",
       "    </tr>\n",
       "    <tr>\n",
       "      <th>5</th>\n",
       "      <td>My mortgage interest rate suddenly increased, ...</td>\n",
       "    </tr>\n",
       "    <tr>\n",
       "      <th>6</th>\n",
       "      <td>I set up autopay for my credit card, but the p...</td>\n",
       "    </tr>\n",
       "    <tr>\n",
       "      <th>7</th>\n",
       "      <td>I'm being harassed by debt collectors for a de...</td>\n",
       "    </tr>\n",
       "    <tr>\n",
       "      <th>8</th>\n",
       "      <td>The customer service representatives are alway...</td>\n",
       "    </tr>\n",
       "    <tr>\n",
       "      <th>9</th>\n",
       "      <td>I reported identity theft, but the bank hasn't...</td>\n",
       "    </tr>\n",
       "    <tr>\n",
       "      <th>10</th>\n",
       "      <td>My credit report has incorrect information, an...</td>\n",
       "    </tr>\n",
       "    <tr>\n",
       "      <th>11</th>\n",
       "      <td>I tried to transfer money to another account, ...</td>\n",
       "    </tr>\n",
       "    <tr>\n",
       "      <th>12</th>\n",
       "      <td>The mobile banking app keeps crashing, and I c...</td>\n",
       "    </tr>\n",
       "    <tr>\n",
       "      <th>13</th>\n",
       "      <td>I made a payment, but it hasn't reflected on m...</td>\n",
       "    </tr>\n",
       "    <tr>\n",
       "      <th>14</th>\n",
       "      <td>My credit limit was reduced without any reason...</td>\n",
       "    </tr>\n",
       "    <tr>\n",
       "      <th>15</th>\n",
       "      <td>I requested a new debit card weeks ago, and I ...</td>\n",
       "    </tr>\n",
       "    <tr>\n",
       "      <th>16</th>\n",
       "      <td>The loan officer promised a lower interest rat...</td>\n",
       "    </tr>\n",
       "    <tr>\n",
       "      <th>17</th>\n",
       "      <td>I was charged a foreign transaction fee even t...</td>\n",
       "    </tr>\n",
       "    <tr>\n",
       "      <th>18</th>\n",
       "      <td>I disputed a charge on my credit card, but the...</td>\n",
       "    </tr>\n",
       "    <tr>\n",
       "      <th>19</th>\n",
       "      <td>I paid off my student loan, but it's still sho...</td>\n",
       "    </tr>\n",
       "  </tbody>\n",
       "</table>\n",
       "</div>"
      ],
      "text/plain": [
       "                                            complaint\n",
       "0   I was charged an overdraft fee even though I h...\n",
       "1   My credit card application got denied without ...\n",
       "2   I noticed an unauthorized transaction on my ac...\n",
       "3   The bank closed my account without informing m...\n",
       "4   I applied for a loan and it's been weeks with ...\n",
       "5   My mortgage interest rate suddenly increased, ...\n",
       "6   I set up autopay for my credit card, but the p...\n",
       "7   I'm being harassed by debt collectors for a de...\n",
       "8   The customer service representatives are alway...\n",
       "9   I reported identity theft, but the bank hasn't...\n",
       "10  My credit report has incorrect information, an...\n",
       "11  I tried to transfer money to another account, ...\n",
       "12  The mobile banking app keeps crashing, and I c...\n",
       "13  I made a payment, but it hasn't reflected on m...\n",
       "14  My credit limit was reduced without any reason...\n",
       "15  I requested a new debit card weeks ago, and I ...\n",
       "16  The loan officer promised a lower interest rat...\n",
       "17  I was charged a foreign transaction fee even t...\n",
       "18  I disputed a charge on my credit card, but the...\n",
       "19  I paid off my student loan, but it's still sho..."
      ]
     },
     "execution_count": 60,
     "metadata": {},
     "output_type": "execute_result"
    }
   ],
   "source": [
    "complaints = pd.DataFrame(custom_complaints)\n",
    "complaints"
   ]
  },
  {
   "cell_type": "code",
   "execution_count": 61,
   "metadata": {},
   "outputs": [],
   "source": [
    "complaints['complained_cleaned'] = preprocess_custom_complaints(complaints=complaints['complaint'])"
   ]
  },
  {
   "cell_type": "code",
   "execution_count": 62,
   "metadata": {},
   "outputs": [],
   "source": [
    "X_custom_tfidf = tfidf_vectorizer.transform(complaints['complained_cleaned'])\n",
    "predicted_topics = log_reg_model.predict(X_custom_tfidf)\n",
    "predicted_labels = [topic_labels_map[topic] for topic in predicted_topics]"
   ]
  },
  {
   "cell_type": "code",
   "execution_count": 63,
   "metadata": {},
   "outputs": [
    {
     "name": "stdout",
     "output_type": "stream",
     "text": [
      "| Predicted Topic            | Complaint                                                                                                                                                                                                                                                                |\n",
      "|----------------------------|--------------------------------------------------------------------------------------------------------------------------------------------------------------------------------------------------------------------------------------------------------------------------|\n",
      "| Bank account services      | I was charged an overdraft fee even though I had enough money in my account.                                                                                                                                                                                             |\n",
      "| Credit card / Prepaid card | My credit card application got denied without any explanation!                                                                                                                                                                                                           |\n",
      "| Bank account services      | I noticed an unauthorized transaction on my account that I did not make.                                                                                                                                                                                                 |\n",
      "| Bank account services      | The bank closed my account without informing me and now I can't access my funds. This has been a nightmare for me as I have automatic payments scheduled and no access to my savings. The customer service team has not been helpful in resolving my issue.              |\n",
      "| Mortgages / Loans          | I applied for a loan and it's been weeks with no response from the bank.                                                                                                                                                                                                 |\n",
      "| Mortgages / Loans          | My mortgage interest rate suddenly increased, and I was not notified. I found out when my monthly payment shot up significantly, and it's putting me in a financial crisis. I have tried reaching out to my loan officer, but there has been no response from their end. |\n",
      "| Others                     | I set up autopay for my credit card, but the payment didn't go through and I was charged a late fee.                                                                                                                                                                     |\n",
      "| Mortgages / Loans          | I'm being harassed by debt collectors for a debt I already paid off.                                                                                                                                                                                                     |\n",
      "| Credit card / Prepaid card | The customer service representatives are always rude and never solve my issues.                                                                                                                                                                                          |\n",
      "| Theft / Dispute reporting  | I reported identity theft, but the bank hasn't taken any action yet. I have sent multiple emails, and every time I call, they say my case is under review. Meanwhile, I continue to receive unauthorized transactions on my account.                                     |\n",
      "| Theft / Dispute reporting  | My credit report has incorrect information, and I can't get it fixed.                                                                                                                                                                                                    |\n",
      "| Bank account services      | I tried to transfer money to another account, but the transaction keeps failing.                                                                                                                                                                                         |\n",
      "| Bank account services      | The mobile banking app keeps crashing, and I can't check my balance.                                                                                                                                                                                                     |\n",
      "| Others                     | I made a payment, but it hasn't reflected on my credit card statement yet.                                                                                                                                                                                               |\n",
      "| Theft / Dispute reporting  | My credit limit was reduced without any reason, and it affected my credit score.                                                                                                                                                                                         |\n",
      "| Credit card / Prepaid card | I requested a new debit card weeks ago, and I still haven't received it.                                                                                                                                                                                                 |\n",
      "| Mortgages / Loans          | The loan officer promised a lower interest rate, but my final loan terms were different.                                                                                                                                                                                 |\n",
      "| Credit card / Prepaid card | I was charged a foreign transaction fee even though I was told my card had no such fees.                                                                                                                                                                                 |\n",
      "| Credit card / Prepaid card | I disputed a charge on my credit card, but they ruled in the merchant's favor without reviewing my case. I provided all the necessary documents and proofs to show that I did not authorize the charge, but I am still being held responsible for the amount.            |\n",
      "| Theft / Dispute reporting  | I paid off my student loan, but it's still showing as unpaid on my credit report. This has caused a dip in my credit score, and now I am facing issues with getting approval for a new mortgage. Despite multiple attempts to rectify this, it remains unresolved.       |\n"
     ]
    }
   ],
   "source": [
    "# Prepare data for tabulated display\n",
    "results = list(zip(predicted_labels, complaints['complaint']))\n",
    "\n",
    "# Print formatted results\n",
    "print(tabulate(results, headers=['Predicted Topic', 'Complaint'], tablefmt='github'))"
   ]
  }
 ],
 "metadata": {
  "kernelspec": {
   "display_name": "tensorflow_env",
   "language": "python",
   "name": "python3"
  },
  "language_info": {
   "codemirror_mode": {
    "name": "ipython",
    "version": 3
   },
   "file_extension": ".py",
   "mimetype": "text/x-python",
   "name": "python",
   "nbconvert_exporter": "python",
   "pygments_lexer": "ipython3",
   "version": "3.12.4"
  }
 },
 "nbformat": 4,
 "nbformat_minor": 2
}
